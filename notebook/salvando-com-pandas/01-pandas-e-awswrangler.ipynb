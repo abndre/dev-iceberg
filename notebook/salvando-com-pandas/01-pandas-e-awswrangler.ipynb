{
 "cells": [
  {
   "cell_type": "code",
   "execution_count": 2,
   "id": "7a9a0214",
   "metadata": {},
   "outputs": [
    {
     "data": {
      "text/html": [
       "<div>\n",
       "<style scoped>\n",
       "    .dataframe tbody tr th:only-of-type {\n",
       "        vertical-align: middle;\n",
       "    }\n",
       "\n",
       "    .dataframe tbody tr th {\n",
       "        vertical-align: top;\n",
       "    }\n",
       "\n",
       "    .dataframe thead th {\n",
       "        text-align: right;\n",
       "    }\n",
       "</style>\n",
       "<table border=\"1\" class=\"dataframe\">\n",
       "  <thead>\n",
       "    <tr style=\"text-align: right;\">\n",
       "      <th></th>\n",
       "      <th>col1</th>\n",
       "      <th>col2</th>\n",
       "    </tr>\n",
       "  </thead>\n",
       "  <tbody>\n",
       "    <tr>\n",
       "      <th>0</th>\n",
       "      <td>1</td>\n",
       "      <td>a</td>\n",
       "    </tr>\n",
       "    <tr>\n",
       "      <th>1</th>\n",
       "      <td>2</td>\n",
       "      <td>b</td>\n",
       "    </tr>\n",
       "  </tbody>\n",
       "</table>\n",
       "</div>"
      ],
      "text/plain": [
       "   col1 col2\n",
       "0     1    a\n",
       "1     2    b"
      ]
     },
     "execution_count": 2,
     "metadata": {},
     "output_type": "execute_result"
    }
   ],
   "source": [
    "import pandas as pd\n",
    "\n",
    "df = pd.DataFrame({\"col1\": [1, 2], \"col2\": [\"a\", \"b\"]})\n",
    "\n",
    "df.head()"
   ]
  },
  {
   "cell_type": "code",
   "execution_count": null,
   "id": "923ecbe5",
   "metadata": {},
   "outputs": [
    {
     "name": "stdout",
     "output_type": "stream",
     "text": [
      "✅ DataFrame salvo com sucesso no MinIO!\n"
     ]
    }
   ],
   "source": [
    "import duckdb\n",
    "\n",
    "# Conectar ao DuckDB\n",
    "con = duckdb.connect()\n",
    "\n",
    "# Configurar acesso ao MinIO (S3 compatível)\n",
    "con.execute(\"\"\"\n",
    "SET s3_region='us-east-1';\n",
    "SET s3_access_key_id='teste';\n",
    "SET s3_secret_access_key='password';\n",
    "SET s3_endpoint='localhost:9000';\n",
    "SET s3_url_style='path';  -- importante p/ MinIO\n",
    "SET s3_use_ssl=false;\n",
    "\"\"\")\n",
    "\n",
    "# Registrar o DataFrame Pandas como uma tabela temporária no DuckDB\n",
    "con.register(\"df_pandas\", df)\n",
    "\n",
    "# (Opcional) verificar o conteúdo\n",
    "#print(con.execute(\"SELECT * FROM df_pandas\").df())\n",
    "\n",
    "# Salvar no MinIO em formato Parquet\n",
    "con.execute(\"\"\"\n",
    "COPY df_pandas TO 's3://bronze/dados/dados.parquet' (FORMAT PARQUET);\n",
    "\"\"\")\n",
    "\n",
    "print(\"✅ DataFrame salvo com sucesso no MinIO!\")\n"
   ]
  },
  {
   "cell_type": "code",
   "execution_count": null,
   "id": "69374be4",
   "metadata": {},
   "outputs": [],
   "source": []
  }
 ],
 "metadata": {
  "kernelspec": {
   "display_name": "iceberg",
   "language": "python",
   "name": "python3"
  },
  "language_info": {
   "codemirror_mode": {
    "name": "ipython",
    "version": 3
   },
   "file_extension": ".py",
   "mimetype": "text/x-python",
   "name": "python",
   "nbconvert_exporter": "python",
   "pygments_lexer": "ipython3",
   "version": "3.10.18"
  }
 },
 "nbformat": 4,
 "nbformat_minor": 5
}
