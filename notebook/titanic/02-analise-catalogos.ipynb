{
 "cells": [
  {
   "cell_type": "code",
   "execution_count": 1,
   "id": "a28bc8dc",
   "metadata": {},
   "outputs": [
    {
     "name": "stderr",
     "output_type": "stream",
     "text": [
      "your 131072x1 screen size is bogus. expect trouble\n",
      "25/10/12 19:33:45 WARN Utils: Your hostname, DESKTOP-4LPUPP7 resolves to a loopback address: 127.0.1.1; using 10.255.255.254 instead (on interface lo)\n",
      "25/10/12 19:33:45 WARN Utils: Set SPARK_LOCAL_IP if you need to bind to another address\n"
     ]
    },
    {
     "name": "stdout",
     "output_type": "stream",
     "text": [
      ":: loading settings :: url = jar:file:/home/andre/miniforge3/envs/iceberg/lib/python3.10/site-packages/pyspark/jars/ivy-2.5.1.jar!/org/apache/ivy/core/settings/ivysettings.xml\n"
     ]
    },
    {
     "name": "stderr",
     "output_type": "stream",
     "text": [
      "Ivy Default Cache set to: /home/andre/.ivy2/cache\n",
      "The jars for the packages stored in: /home/andre/.ivy2/jars\n",
      "org.apache.iceberg#iceberg-spark-runtime-3.4_2.12 added as a dependency\n",
      "org.apache.hadoop#hadoop-aws added as a dependency\n",
      ":: resolving dependencies :: org.apache.spark#spark-submit-parent-b5f89e7a-593a-467f-96a4-49c36df50099;1.0\n",
      "\tconfs: [default]\n",
      "\tfound org.apache.iceberg#iceberg-spark-runtime-3.4_2.12;1.6.1 in central\n",
      "\tfound org.apache.hadoop#hadoop-aws;3.3.4 in central\n",
      "\tfound com.amazonaws#aws-java-sdk-bundle;1.12.262 in central\n",
      "\tfound org.wildfly.openssl#wildfly-openssl;1.0.7.Final in central\n",
      ":: resolution report :: resolve 208ms :: artifacts dl 10ms\n",
      "\t:: modules in use:\n",
      "\tcom.amazonaws#aws-java-sdk-bundle;1.12.262 from central in [default]\n",
      "\torg.apache.hadoop#hadoop-aws;3.3.4 from central in [default]\n",
      "\torg.apache.iceberg#iceberg-spark-runtime-3.4_2.12;1.6.1 from central in [default]\n",
      "\torg.wildfly.openssl#wildfly-openssl;1.0.7.Final from central in [default]\n",
      "\t---------------------------------------------------------------------\n",
      "\t|                  |            modules            ||   artifacts   |\n",
      "\t|       conf       | number| search|dwnlded|evicted|| number|dwnlded|\n",
      "\t---------------------------------------------------------------------\n",
      "\t|      default     |   4   |   0   |   0   |   0   ||   4   |   0   |\n",
      "\t---------------------------------------------------------------------\n",
      ":: retrieving :: org.apache.spark#spark-submit-parent-b5f89e7a-593a-467f-96a4-49c36df50099\n",
      "\tconfs: [default]\n",
      "\t0 artifacts copied, 4 already retrieved (0kB/6ms)\n",
      "25/10/12 19:33:45 WARN NativeCodeLoader: Unable to load native-hadoop library for your platform... using builtin-java classes where applicable\n",
      "Setting default log level to \"WARN\".\n",
      "To adjust logging level use sc.setLogLevel(newLevel). For SparkR, use setLogLevel(newLevel).\n"
     ]
    },
    {
     "name": "stdout",
     "output_type": "stream",
     "text": [
      "✅ Spark SQL Magic carregado! Use %sql ou %%sql para executar consultas Spark SQL.\n"
     ]
    }
   ],
   "source": [
    "import  pandas as pd\n",
    "from pyspark.sql import SparkSession\n",
    "\n",
    "spark = (\n",
    "    SparkSession.builder\n",
    "    .appName(\"titanic\")\n",
    "    .config(\n",
    "        \"spark.jars.packages\",\n",
    "        \"org.apache.iceberg:iceberg-spark-runtime-3.4_2.12:1.6.1,\"\n",
    "        \"org.apache.hadoop:hadoop-aws:3.3.4\"\n",
    "    )\n",
    "    .config(\"spark.sql.catalog.demo\", \"org.apache.iceberg.spark.SparkCatalog\")\n",
    "    .config(\"spark.sql.catalog.demo.type\", \"hadoop\")\n",
    "    .config(\"spark.sql.catalog.demo.warehouse\", \"s3a://bronze/warehouse/\")\n",
    "    .config(\"spark.sql.catalog.silver\", \"org.apache.iceberg.spark.SparkCatalog\")\n",
    "    .config(\"spark.sql.catalog.silver.type\", \"hadoop\")\n",
    "    .config(\"spark.sql.catalog.silver.warehouse\", \"s3a://silver/warehouse/\")\n",
    "    .config(\"spark.sql.catalog.gold\", \"org.apache.iceberg.spark.SparkCatalog\")\n",
    "    .config(\"spark.sql.catalog.gold.type\", \"hadoop\")\n",
    "    .config(\"spark.sql.catalog.gold.warehouse\", \"s3a://gold/warehouse/\")        \n",
    "    .config(\"spark.hadoop.fs.s3a.access.key\", \"teste\")\n",
    "    .config(\"spark.hadoop.fs.s3a.secret.key\", \"password\")\n",
    "    .config(\"spark.hadoop.fs.s3a.endpoint\", \"http://localhost:9000\")\n",
    "    .config(\"spark.hadoop.fs.s3a.path.style.access\", \"true\")\n",
    "    .config(\"spark.hadoop.fs.s3a.impl\", \"org.apache.hadoop.fs.s3a.S3AFileSystem\")\n",
    "    .getOrCreate()\n",
    ")\n",
    "\n",
    "%load_ext 00-prettytables"
   ]
  },
  {
   "cell_type": "code",
   "execution_count": 4,
   "id": "c404ca7a",
   "metadata": {},
   "outputs": [
    {
     "name": "stderr",
     "output_type": "stream",
     "text": [
      "25/10/12 19:34:12 WARN MetricsConfig: Cannot locate configuration: tried hadoop-metrics2-s3a-file-system.properties,hadoop-metrics2.properties\n"
     ]
    },
    {
     "data": {
      "text/html": [
       "<table>\n",
       "    <thead>\n",
       "        <tr>\n",
       "            <th>namespace</th>\n",
       "        </tr>\n",
       "    </thead>\n",
       "    <tbody>\n",
       "        <tr>\n",
       "            <td>db_teste_iceberg</td>\n",
       "        </tr>\n",
       "        <tr>\n",
       "            <td>ml_titanic_raw</td>\n",
       "        </tr>\n",
       "    </tbody>\n",
       "</table>"
      ],
      "text/plain": [
       "+------------------+\n",
       "|        namespace |\n",
       "+------------------+\n",
       "| db_teste_iceberg |\n",
       "|   ml_titanic_raw |\n",
       "+------------------+"
      ]
     },
     "execution_count": 4,
     "metadata": {},
     "output_type": "execute_result"
    }
   ],
   "source": [
    "%%sql\n",
    "show databases from demo; "
   ]
  },
  {
   "cell_type": "code",
   "execution_count": 10,
   "id": "2774d789",
   "metadata": {},
   "outputs": [
    {
     "data": {
      "text/html": [
       "<table>\n",
       "    <thead>\n",
       "        <tr>\n",
       "            <th>namespace</th>\n",
       "            <th>tableName</th>\n",
       "            <th>isTemporary</th>\n",
       "        </tr>\n",
       "    </thead>\n",
       "    <tbody>\n",
       "        <tr>\n",
       "            <td>db_teste_iceberg</td>\n",
       "            <td>teste</td>\n",
       "            <td>False</td>\n",
       "        </tr>\n",
       "    </tbody>\n",
       "</table>"
      ],
      "text/plain": [
       "+------------------+-----------+-------------+\n",
       "|        namespace | tableName | isTemporary |\n",
       "+------------------+-----------+-------------+\n",
       "| db_teste_iceberg |     teste |       False |\n",
       "+------------------+-----------+-------------+"
      ]
     },
     "execution_count": 10,
     "metadata": {},
     "output_type": "execute_result"
    }
   ],
   "source": [
    "%%sql\n",
    "show tables from  demo.db_teste_iceberg;"
   ]
  },
  {
   "cell_type": "code",
   "execution_count": 11,
   "id": "05287959",
   "metadata": {},
   "outputs": [
    {
     "data": {
      "text/html": [
       "<table>\n",
       "    <thead>\n",
       "        <tr>\n",
       "            <th>namespace</th>\n",
       "        </tr>\n",
       "    </thead>\n",
       "    <tbody>\n",
       "        <tr>\n",
       "            <td>ml_titanic_silver</td>\n",
       "        </tr>\n",
       "    </tbody>\n",
       "</table>"
      ],
      "text/plain": [
       "+-------------------+\n",
       "|         namespace |\n",
       "+-------------------+\n",
       "| ml_titanic_silver |\n",
       "+-------------------+"
      ]
     },
     "execution_count": 11,
     "metadata": {},
     "output_type": "execute_result"
    }
   ],
   "source": [
    "%%sql\n",
    "show databases from silver; "
   ]
  },
  {
   "cell_type": "code",
   "execution_count": 12,
   "id": "79f2a09d",
   "metadata": {},
   "outputs": [
    {
     "data": {
      "text/html": [
       "<table>\n",
       "    <thead>\n",
       "        <tr>\n",
       "            <th>namespace</th>\n",
       "            <th>tableName</th>\n",
       "            <th>isTemporary</th>\n",
       "        </tr>\n",
       "    </thead>\n",
       "    <tbody>\n",
       "        <tr>\n",
       "            <td>ml_titanic_silver</td>\n",
       "            <td>titanic</td>\n",
       "            <td>False</td>\n",
       "        </tr>\n",
       "    </tbody>\n",
       "</table>"
      ],
      "text/plain": [
       "+-------------------+-----------+-------------+\n",
       "|         namespace | tableName | isTemporary |\n",
       "+-------------------+-----------+-------------+\n",
       "| ml_titanic_silver |   titanic |       False |\n",
       "+-------------------+-----------+-------------+"
      ]
     },
     "execution_count": 12,
     "metadata": {},
     "output_type": "execute_result"
    }
   ],
   "source": [
    "%%sql\n",
    "show tables from  silver.ml_titanic_silver;"
   ]
  },
  {
   "cell_type": "code",
   "execution_count": 14,
   "id": "8e915a83",
   "metadata": {},
   "outputs": [
    {
     "name": "stderr",
     "output_type": "stream",
     "text": [
      "                                                                                \r"
     ]
    },
    {
     "data": {
      "text/html": [
       "<table>\n",
       "    <thead>\n",
       "        <tr>\n",
       "            <th>passengerid</th>\n",
       "            <th>survived</th>\n",
       "            <th>pclass</th>\n",
       "            <th>name</th>\n",
       "            <th>sex</th>\n",
       "            <th>age</th>\n",
       "            <th>sibsp</th>\n",
       "            <th>parch</th>\n",
       "            <th>ticket</th>\n",
       "            <th>fare</th>\n",
       "            <th>cabin</th>\n",
       "            <th>embarked</th>\n",
       "            <th>is_child</th>\n",
       "        </tr>\n",
       "    </thead>\n",
       "    <tbody>\n",
       "        <tr>\n",
       "            <td>91</td>\n",
       "            <td>0</td>\n",
       "            <td>3</td>\n",
       "            <td>Christmann, Mr. Emil</td>\n",
       "            <td>1</td>\n",
       "            <td>29.0</td>\n",
       "            <td>0</td>\n",
       "            <td>0</td>\n",
       "            <td>343276</td>\n",
       "            <td>8.05</td>\n",
       "            <td>-1</td>\n",
       "            <td>s</td>\n",
       "            <td>0</td>\n",
       "        </tr>\n",
       "        <tr>\n",
       "            <td>264</td>\n",
       "            <td>0</td>\n",
       "            <td>1</td>\n",
       "            <td>Harrison, Mr. William</td>\n",
       "            <td>1</td>\n",
       "            <td>40.0</td>\n",
       "            <td>0</td>\n",
       "            <td>0</td>\n",
       "            <td>112059</td>\n",
       "            <td>0.0</td>\n",
       "            <td>B94</td>\n",
       "            <td>s</td>\n",
       "            <td>0</td>\n",
       "        </tr>\n",
       "        <tr>\n",
       "            <td>26</td>\n",
       "            <td>1</td>\n",
       "            <td>3</td>\n",
       "            <td>Asplund, Mrs. Carl Oscar (Selma Augusta Emilia Johansson)</td>\n",
       "            <td>0</td>\n",
       "            <td>38.0</td>\n",
       "            <td>1</td>\n",
       "            <td>5</td>\n",
       "            <td>347077</td>\n",
       "            <td>31.3875</td>\n",
       "            <td>-1</td>\n",
       "            <td>s</td>\n",
       "            <td>0</td>\n",
       "        </tr>\n",
       "        <tr>\n",
       "            <td>43</td>\n",
       "            <td>0</td>\n",
       "            <td>3</td>\n",
       "            <td>Kraeff, Mr. Theodor</td>\n",
       "            <td>1</td>\n",
       "            <td>29.7</td>\n",
       "            <td>0</td>\n",
       "            <td>0</td>\n",
       "            <td>349253</td>\n",
       "            <td>7.8958</td>\n",
       "            <td>-1</td>\n",
       "            <td>c</td>\n",
       "            <td>0</td>\n",
       "        </tr>\n",
       "        <tr>\n",
       "            <td>115</td>\n",
       "            <td>0</td>\n",
       "            <td>3</td>\n",
       "            <td>Attalah, Miss Malake</td>\n",
       "            <td>0</td>\n",
       "            <td>17.0</td>\n",
       "            <td>0</td>\n",
       "            <td>0</td>\n",
       "            <td>2627</td>\n",
       "            <td>14.4583</td>\n",
       "            <td>-1</td>\n",
       "            <td>c</td>\n",
       "            <td>1</td>\n",
       "        </tr>\n",
       "        <tr>\n",
       "            <td>99</td>\n",
       "            <td>1</td>\n",
       "            <td>2</td>\n",
       "            <td>Doling, Mrs. John T (Ada Julia Bone)</td>\n",
       "            <td>0</td>\n",
       "            <td>34.0</td>\n",
       "            <td>0</td>\n",
       "            <td>1</td>\n",
       "            <td>231919</td>\n",
       "            <td>23.0</td>\n",
       "            <td>-1</td>\n",
       "            <td>s</td>\n",
       "            <td>0</td>\n",
       "        </tr>\n",
       "        <tr>\n",
       "            <td>127</td>\n",
       "            <td>0</td>\n",
       "            <td>3</td>\n",
       "            <td>McMahon, Mr. Martin</td>\n",
       "            <td>1</td>\n",
       "            <td>29.7</td>\n",
       "            <td>0</td>\n",
       "            <td>0</td>\n",
       "            <td>370372</td>\n",
       "            <td>7.75</td>\n",
       "            <td>-1</td>\n",
       "            <td>q</td>\n",
       "            <td>0</td>\n",
       "        </tr>\n",
       "        <tr>\n",
       "            <td>136</td>\n",
       "            <td>0</td>\n",
       "            <td>2</td>\n",
       "            <td>Richard, Mr. Emile</td>\n",
       "            <td>1</td>\n",
       "            <td>23.0</td>\n",
       "            <td>0</td>\n",
       "            <td>0</td>\n",
       "            <td>SC/PARIS 2133</td>\n",
       "            <td>15.0458</td>\n",
       "            <td>-1</td>\n",
       "            <td>c</td>\n",
       "            <td>0</td>\n",
       "        </tr>\n",
       "        <tr>\n",
       "            <td>191</td>\n",
       "            <td>1</td>\n",
       "            <td>2</td>\n",
       "            <td>Pinsky, Mrs. (Rosa)</td>\n",
       "            <td>0</td>\n",
       "            <td>32.0</td>\n",
       "            <td>0</td>\n",
       "            <td>0</td>\n",
       "            <td>234604</td>\n",
       "            <td>13.0</td>\n",
       "            <td>-1</td>\n",
       "            <td>s</td>\n",
       "            <td>0</td>\n",
       "        </tr>\n",
       "        <tr>\n",
       "            <td>276</td>\n",
       "            <td>1</td>\n",
       "            <td>1</td>\n",
       "            <td>Andrews, Miss Kornelia Theodosia</td>\n",
       "            <td>0</td>\n",
       "            <td>63.0</td>\n",
       "            <td>1</td>\n",
       "            <td>0</td>\n",
       "            <td>13502</td>\n",
       "            <td>77.9583</td>\n",
       "            <td>D7</td>\n",
       "            <td>s</td>\n",
       "            <td>0</td>\n",
       "        </tr>\n",
       "    </tbody>\n",
       "</table>"
      ],
      "text/plain": [
       "+-------------+----------+--------+-----------------------------------------------------------+-----+------+-------+-------+---------------+---------+-------+----------+----------+\n",
       "| passengerid | survived | pclass |                                                      name | sex |  age | sibsp | parch |        ticket |    fare | cabin | embarked | is_child |\n",
       "+-------------+----------+--------+-----------------------------------------------------------+-----+------+-------+-------+---------------+---------+-------+----------+----------+\n",
       "|          91 |        0 |      3 |                                      Christmann, Mr. Emil |   1 | 29.0 |     0 |     0 |        343276 |    8.05 |    -1 |        s |        0 |\n",
       "|         264 |        0 |      1 |                                     Harrison, Mr. William |   1 | 40.0 |     0 |     0 |        112059 |     0.0 |   B94 |        s |        0 |\n",
       "|          26 |        1 |      3 | Asplund, Mrs. Carl Oscar (Selma Augusta Emilia Johansson) |   0 | 38.0 |     1 |     5 |        347077 | 31.3875 |    -1 |        s |        0 |\n",
       "|          43 |        0 |      3 |                                       Kraeff, Mr. Theodor |   1 | 29.7 |     0 |     0 |        349253 |  7.8958 |    -1 |        c |        0 |\n",
       "|         115 |        0 |      3 |                                      Attalah, Miss Malake |   0 | 17.0 |     0 |     0 |          2627 | 14.4583 |    -1 |        c |        1 |\n",
       "|          99 |        1 |      2 |                      Doling, Mrs. John T (Ada Julia Bone) |   0 | 34.0 |     0 |     1 |        231919 |    23.0 |    -1 |        s |        0 |\n",
       "|         127 |        0 |      3 |                                       McMahon, Mr. Martin |   1 | 29.7 |     0 |     0 |        370372 |    7.75 |    -1 |        q |        0 |\n",
       "|         136 |        0 |      2 |                                        Richard, Mr. Emile |   1 | 23.0 |     0 |     0 | SC/PARIS 2133 | 15.0458 |    -1 |        c |        0 |\n",
       "|         191 |        1 |      2 |                                       Pinsky, Mrs. (Rosa) |   0 | 32.0 |     0 |     0 |        234604 |    13.0 |    -1 |        s |        0 |\n",
       "|         276 |        1 |      1 |                          Andrews, Miss Kornelia Theodosia |   0 | 63.0 |     1 |     0 |         13502 | 77.9583 |    D7 |        s |        0 |\n",
       "+-------------+----------+--------+-----------------------------------------------------------+-----+------+-------+-------+---------------+---------+-------+----------+----------+"
      ]
     },
     "execution_count": 14,
     "metadata": {},
     "output_type": "execute_result"
    }
   ],
   "source": [
    "%%sql \n",
    "select * from silver.ml_titanic_silver.titanic limit 10;"
   ]
  },
  {
   "cell_type": "code",
   "execution_count": null,
   "id": "f8fd0f07",
   "metadata": {},
   "outputs": [],
   "source": []
  }
 ],
 "metadata": {
  "kernelspec": {
   "display_name": "iceberg",
   "language": "python",
   "name": "python3"
  },
  "language_info": {
   "codemirror_mode": {
    "name": "ipython",
    "version": 3
   },
   "file_extension": ".py",
   "mimetype": "text/x-python",
   "name": "python",
   "nbconvert_exporter": "python",
   "pygments_lexer": "ipython3",
   "version": "3.10.18"
  }
 },
 "nbformat": 4,
 "nbformat_minor": 5
}
