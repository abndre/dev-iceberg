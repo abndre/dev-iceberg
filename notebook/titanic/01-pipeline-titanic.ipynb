{
 "cells": [
  {
   "cell_type": "code",
   "execution_count": 1,
   "id": "985398e0",
   "metadata": {},
   "outputs": [
    {
     "name": "stderr",
     "output_type": "stream",
     "text": [
      "your 131072x1 screen size is bogus. expect trouble\n",
      "25/10/12 07:05:45 WARN Utils: Your hostname, DESKTOP-4LPUPP7 resolves to a loopback address: 127.0.1.1; using 10.255.255.254 instead (on interface lo)\n",
      "25/10/12 07:05:45 WARN Utils: Set SPARK_LOCAL_IP if you need to bind to another address\n"
     ]
    },
    {
     "name": "stdout",
     "output_type": "stream",
     "text": [
      ":: loading settings :: url = jar:file:/home/andre/miniforge3/envs/iceberg/lib/python3.10/site-packages/pyspark/jars/ivy-2.5.1.jar!/org/apache/ivy/core/settings/ivysettings.xml\n"
     ]
    },
    {
     "name": "stderr",
     "output_type": "stream",
     "text": [
      "Ivy Default Cache set to: /home/andre/.ivy2/cache\n",
      "The jars for the packages stored in: /home/andre/.ivy2/jars\n",
      "org.apache.iceberg#iceberg-spark-runtime-3.4_2.12 added as a dependency\n",
      "org.apache.hadoop#hadoop-aws added as a dependency\n",
      ":: resolving dependencies :: org.apache.spark#spark-submit-parent-5ecdec31-ee84-4245-8852-c45efff65c5c;1.0\n",
      "\tconfs: [default]\n",
      "\tfound org.apache.iceberg#iceberg-spark-runtime-3.4_2.12;1.6.1 in central\n",
      "\tfound org.apache.hadoop#hadoop-aws;3.3.4 in central\n",
      "\tfound com.amazonaws#aws-java-sdk-bundle;1.12.262 in central\n",
      "\tfound org.wildfly.openssl#wildfly-openssl;1.0.7.Final in central\n",
      ":: resolution report :: resolve 190ms :: artifacts dl 6ms\n",
      "\t:: modules in use:\n",
      "\tcom.amazonaws#aws-java-sdk-bundle;1.12.262 from central in [default]\n",
      "\torg.apache.hadoop#hadoop-aws;3.3.4 from central in [default]\n",
      "\torg.apache.iceberg#iceberg-spark-runtime-3.4_2.12;1.6.1 from central in [default]\n",
      "\torg.wildfly.openssl#wildfly-openssl;1.0.7.Final from central in [default]\n",
      "\t---------------------------------------------------------------------\n",
      "\t|                  |            modules            ||   artifacts   |\n",
      "\t|       conf       | number| search|dwnlded|evicted|| number|dwnlded|\n",
      "\t---------------------------------------------------------------------\n",
      "\t|      default     |   4   |   0   |   0   |   0   ||   4   |   0   |\n",
      "\t---------------------------------------------------------------------\n",
      ":: retrieving :: org.apache.spark#spark-submit-parent-5ecdec31-ee84-4245-8852-c45efff65c5c\n",
      "\tconfs: [default]\n",
      "\t0 artifacts copied, 4 already retrieved (0kB/4ms)\n",
      "25/10/12 07:05:46 WARN NativeCodeLoader: Unable to load native-hadoop library for your platform... using builtin-java classes where applicable\n",
      "Setting default log level to \"WARN\".\n",
      "To adjust logging level use sc.setLogLevel(newLevel). For SparkR, use setLogLevel(newLevel).\n"
     ]
    },
    {
     "name": "stdout",
     "output_type": "stream",
     "text": [
      "✅ Spark SQL Magic carregado! Use %sql ou %%sql para executar consultas Spark SQL.\n"
     ]
    }
   ],
   "source": [
    "import  pandas as pd\n",
    "from pyspark.sql import SparkSession\n",
    "\n",
    "spark = (\n",
    "    SparkSession.builder\n",
    "    .appName(\"titanic\")\n",
    "    .config(\n",
    "        \"spark.jars.packages\",\n",
    "        \"org.apache.iceberg:iceberg-spark-runtime-3.4_2.12:1.6.1,\"\n",
    "        \"org.apache.hadoop:hadoop-aws:3.3.4\"\n",
    "    )\n",
    "    .config(\"spark.sql.catalog.demo\", \"org.apache.iceberg.spark.SparkCatalog\")\n",
    "    .config(\"spark.sql.catalog.demo.type\", \"hadoop\")\n",
    "    .config(\"spark.sql.catalog.demo.warehouse\", \"s3a://bronze/warehouse/\")\n",
    "    .config(\"spark.sql.catalog.silver\", \"org.apache.iceberg.spark.SparkCatalog\")\n",
    "    .config(\"spark.sql.catalog.silver.type\", \"hadoop\")\n",
    "    .config(\"spark.sql.catalog.silver.warehouse\", \"s3a://silver/warehouse/\")\n",
    "    .config(\"spark.sql.catalog.gold\", \"org.apache.iceberg.spark.SparkCatalog\")\n",
    "    .config(\"spark.sql.catalog.gold.type\", \"hadoop\")\n",
    "    .config(\"spark.sql.catalog.gold.warehouse\", \"s3a://gold/warehouse/\")        \n",
    "    .config(\"spark.hadoop.fs.s3a.access.key\", \"teste\")\n",
    "    .config(\"spark.hadoop.fs.s3a.secret.key\", \"password\")\n",
    "    .config(\"spark.hadoop.fs.s3a.endpoint\", \"http://localhost:9000\")\n",
    "    .config(\"spark.hadoop.fs.s3a.path.style.access\", \"true\")\n",
    "    .config(\"spark.hadoop.fs.s3a.impl\", \"org.apache.hadoop.fs.s3a.S3AFileSystem\")\n",
    "    .getOrCreate()\n",
    ")\n",
    "\n",
    "%load_ext 00-prettytables"
   ]
  },
  {
   "cell_type": "code",
   "execution_count": 3,
   "id": "d0869cbf",
   "metadata": {},
   "outputs": [],
   "source": [
    "df = pd.read_csv(\"https://raw.githubusercontent.com/pandas-dev/pandas/master/doc/data/titanic.csv\")\n"
   ]
  },
  {
   "cell_type": "code",
   "execution_count": 4,
   "id": "466120e6",
   "metadata": {},
   "outputs": [
    {
     "data": {
      "text/html": [
       "<div>\n",
       "<style scoped>\n",
       "    .dataframe tbody tr th:only-of-type {\n",
       "        vertical-align: middle;\n",
       "    }\n",
       "\n",
       "    .dataframe tbody tr th {\n",
       "        vertical-align: top;\n",
       "    }\n",
       "\n",
       "    .dataframe thead th {\n",
       "        text-align: right;\n",
       "    }\n",
       "</style>\n",
       "<table border=\"1\" class=\"dataframe\">\n",
       "  <thead>\n",
       "    <tr style=\"text-align: right;\">\n",
       "      <th></th>\n",
       "      <th>PassengerId</th>\n",
       "      <th>Survived</th>\n",
       "      <th>Pclass</th>\n",
       "      <th>Name</th>\n",
       "      <th>Sex</th>\n",
       "      <th>Age</th>\n",
       "      <th>SibSp</th>\n",
       "      <th>Parch</th>\n",
       "      <th>Ticket</th>\n",
       "      <th>Fare</th>\n",
       "      <th>Cabin</th>\n",
       "      <th>Embarked</th>\n",
       "    </tr>\n",
       "  </thead>\n",
       "  <tbody>\n",
       "    <tr>\n",
       "      <th>0</th>\n",
       "      <td>1</td>\n",
       "      <td>0</td>\n",
       "      <td>3</td>\n",
       "      <td>Braund, Mr. Owen Harris</td>\n",
       "      <td>male</td>\n",
       "      <td>22.0</td>\n",
       "      <td>1</td>\n",
       "      <td>0</td>\n",
       "      <td>A/5 21171</td>\n",
       "      <td>7.2500</td>\n",
       "      <td>NaN</td>\n",
       "      <td>S</td>\n",
       "    </tr>\n",
       "    <tr>\n",
       "      <th>1</th>\n",
       "      <td>2</td>\n",
       "      <td>1</td>\n",
       "      <td>1</td>\n",
       "      <td>Cumings, Mrs. John Bradley (Florence Briggs Th...</td>\n",
       "      <td>female</td>\n",
       "      <td>38.0</td>\n",
       "      <td>1</td>\n",
       "      <td>0</td>\n",
       "      <td>PC 17599</td>\n",
       "      <td>71.2833</td>\n",
       "      <td>C85</td>\n",
       "      <td>C</td>\n",
       "    </tr>\n",
       "    <tr>\n",
       "      <th>2</th>\n",
       "      <td>3</td>\n",
       "      <td>1</td>\n",
       "      <td>3</td>\n",
       "      <td>Heikkinen, Miss Laina</td>\n",
       "      <td>female</td>\n",
       "      <td>26.0</td>\n",
       "      <td>0</td>\n",
       "      <td>0</td>\n",
       "      <td>STON/O2. 3101282</td>\n",
       "      <td>7.9250</td>\n",
       "      <td>NaN</td>\n",
       "      <td>S</td>\n",
       "    </tr>\n",
       "    <tr>\n",
       "      <th>3</th>\n",
       "      <td>4</td>\n",
       "      <td>1</td>\n",
       "      <td>1</td>\n",
       "      <td>Futrelle, Mrs. Jacques Heath (Lily May Peel)</td>\n",
       "      <td>female</td>\n",
       "      <td>35.0</td>\n",
       "      <td>1</td>\n",
       "      <td>0</td>\n",
       "      <td>113803</td>\n",
       "      <td>53.1000</td>\n",
       "      <td>C123</td>\n",
       "      <td>S</td>\n",
       "    </tr>\n",
       "    <tr>\n",
       "      <th>4</th>\n",
       "      <td>5</td>\n",
       "      <td>0</td>\n",
       "      <td>3</td>\n",
       "      <td>Allen, Mr. William Henry</td>\n",
       "      <td>male</td>\n",
       "      <td>35.0</td>\n",
       "      <td>0</td>\n",
       "      <td>0</td>\n",
       "      <td>373450</td>\n",
       "      <td>8.0500</td>\n",
       "      <td>NaN</td>\n",
       "      <td>S</td>\n",
       "    </tr>\n",
       "  </tbody>\n",
       "</table>\n",
       "</div>"
      ],
      "text/plain": [
       "   PassengerId  Survived  Pclass  \\\n",
       "0            1         0       3   \n",
       "1            2         1       1   \n",
       "2            3         1       3   \n",
       "3            4         1       1   \n",
       "4            5         0       3   \n",
       "\n",
       "                                                Name     Sex   Age  SibSp  \\\n",
       "0                            Braund, Mr. Owen Harris    male  22.0      1   \n",
       "1  Cumings, Mrs. John Bradley (Florence Briggs Th...  female  38.0      1   \n",
       "2                              Heikkinen, Miss Laina  female  26.0      0   \n",
       "3       Futrelle, Mrs. Jacques Heath (Lily May Peel)  female  35.0      1   \n",
       "4                           Allen, Mr. William Henry    male  35.0      0   \n",
       "\n",
       "   Parch            Ticket     Fare Cabin Embarked  \n",
       "0      0         A/5 21171   7.2500   NaN        S  \n",
       "1      0          PC 17599  71.2833   C85        C  \n",
       "2      0  STON/O2. 3101282   7.9250   NaN        S  \n",
       "3      0            113803  53.1000  C123        S  \n",
       "4      0            373450   8.0500   NaN        S  "
      ]
     },
     "execution_count": 4,
     "metadata": {},
     "output_type": "execute_result"
    }
   ],
   "source": [
    "df.head()"
   ]
  },
  {
   "cell_type": "code",
   "execution_count": 5,
   "id": "b67f00a0",
   "metadata": {},
   "outputs": [
    {
     "name": "stderr",
     "output_type": "stream",
     "text": [
      "25/10/11 15:29:51 WARN MetricsConfig: Cannot locate configuration: tried hadoop-metrics2-s3a-file-system.properties,hadoop-metrics2.properties\n"
     ]
    },
    {
     "name": "stdout",
     "output_type": "stream",
     "text": [
      "✅ Tabela criada com sucesso!\n"
     ]
    }
   ],
   "source": [
    "spark.sql(\"\"\"\n",
    "    CREATE TABLE IF NOT EXISTS demo.ml_titanic_raw.titanic\n",
    "\"\"\")\n",
    "\n",
    "print(\"✅ Tabela criada com sucesso!\")"
   ]
  },
  {
   "cell_type": "code",
   "execution_count": 6,
   "id": "126fd85f",
   "metadata": {},
   "outputs": [
    {
     "name": "stderr",
     "output_type": "stream",
     "text": [
      "                                                                                \r"
     ]
    }
   ],
   "source": [
    "spark_df = spark.createDataFrame(df)\n",
    "spark_df.write.mode(\"overwrite\").saveAsTable(\"demo.ml_titanic_raw.titanic\")"
   ]
  },
  {
   "cell_type": "code",
   "execution_count": 7,
   "id": "1ee98b5c",
   "metadata": {},
   "outputs": [
    {
     "data": {
      "text/html": [
       "<table>\n",
       "    <thead>\n",
       "        <tr>\n",
       "            <th>PassengerId</th>\n",
       "            <th>Survived</th>\n",
       "            <th>Pclass</th>\n",
       "            <th>Name</th>\n",
       "            <th>Sex</th>\n",
       "            <th>Age</th>\n",
       "            <th>SibSp</th>\n",
       "            <th>Parch</th>\n",
       "            <th>Ticket</th>\n",
       "            <th>Fare</th>\n",
       "            <th>Cabin</th>\n",
       "            <th>Embarked</th>\n",
       "        </tr>\n",
       "    </thead>\n",
       "    <tbody>\n",
       "        <tr>\n",
       "            <td>1</td>\n",
       "            <td>0</td>\n",
       "            <td>3</td>\n",
       "            <td>Braund, Mr. Owen Harris</td>\n",
       "            <td>male</td>\n",
       "            <td>22.0</td>\n",
       "            <td>1</td>\n",
       "            <td>0</td>\n",
       "            <td>A/5 21171</td>\n",
       "            <td>7.25</td>\n",
       "            <td>NaN</td>\n",
       "            <td>S</td>\n",
       "        </tr>\n",
       "        <tr>\n",
       "            <td>2</td>\n",
       "            <td>1</td>\n",
       "            <td>1</td>\n",
       "            <td>Cumings, Mrs. John Bradley (Florence Briggs Thayer)</td>\n",
       "            <td>female</td>\n",
       "            <td>38.0</td>\n",
       "            <td>1</td>\n",
       "            <td>0</td>\n",
       "            <td>PC 17599</td>\n",
       "            <td>71.2833</td>\n",
       "            <td>C85</td>\n",
       "            <td>C</td>\n",
       "        </tr>\n",
       "        <tr>\n",
       "            <td>3</td>\n",
       "            <td>1</td>\n",
       "            <td>3</td>\n",
       "            <td>Heikkinen, Miss Laina</td>\n",
       "            <td>female</td>\n",
       "            <td>26.0</td>\n",
       "            <td>0</td>\n",
       "            <td>0</td>\n",
       "            <td>STON/O2. 3101282</td>\n",
       "            <td>7.925</td>\n",
       "            <td>NaN</td>\n",
       "            <td>S</td>\n",
       "        </tr>\n",
       "    </tbody>\n",
       "</table>"
      ],
      "text/plain": [
       "+-------------+----------+--------+-----------------------------------------------------+--------+------+-------+-------+------------------+---------+-------+----------+\n",
       "| PassengerId | Survived | Pclass |                                                Name |    Sex |  Age | SibSp | Parch |           Ticket |    Fare | Cabin | Embarked |\n",
       "+-------------+----------+--------+-----------------------------------------------------+--------+------+-------+-------+------------------+---------+-------+----------+\n",
       "|           1 |        0 |      3 |                             Braund, Mr. Owen Harris |   male | 22.0 |     1 |     0 |        A/5 21171 |    7.25 |   NaN |        S |\n",
       "|           2 |        1 |      1 | Cumings, Mrs. John Bradley (Florence Briggs Thayer) | female | 38.0 |     1 |     0 |         PC 17599 | 71.2833 |   C85 |        C |\n",
       "|           3 |        1 |      3 |                               Heikkinen, Miss Laina | female | 26.0 |     0 |     0 | STON/O2. 3101282 |   7.925 |   NaN |        S |\n",
       "+-------------+----------+--------+-----------------------------------------------------+--------+------+-------+-------+------------------+---------+-------+----------+"
      ]
     },
     "execution_count": 7,
     "metadata": {},
     "output_type": "execute_result"
    }
   ],
   "source": [
    "%%sql\n",
    "select * from demo.ml_titanic_raw.titanic limit 3"
   ]
  },
  {
   "cell_type": "code",
   "execution_count": 8,
   "id": "8c1c6131",
   "metadata": {},
   "outputs": [],
   "source": [
    "#%%sql \n",
    "\n",
    "#DROP TABLE IF EXISTS demo.ml_titanic_raw.titanic PURGE"
   ]
  },
  {
   "cell_type": "code",
   "execution_count": 9,
   "id": "0042899d",
   "metadata": {},
   "outputs": [
    {
     "data": {
      "text/html": [
       "<table>\n",
       "    <thead>\n",
       "        <tr>\n",
       "            <th>sex</th>\n",
       "            <th>count(1)</th>\n",
       "        </tr>\n",
       "    </thead>\n",
       "    <tbody>\n",
       "        <tr>\n",
       "            <td>female</td>\n",
       "            <td>314</td>\n",
       "        </tr>\n",
       "        <tr>\n",
       "            <td>male</td>\n",
       "            <td>577</td>\n",
       "        </tr>\n",
       "    </tbody>\n",
       "</table>"
      ],
      "text/plain": [
       "+--------+----------+\n",
       "|    sex | count(1) |\n",
       "+--------+----------+\n",
       "| female |      314 |\n",
       "|   male |      577 |\n",
       "+--------+----------+"
      ]
     },
     "execution_count": 9,
     "metadata": {},
     "output_type": "execute_result"
    }
   ],
   "source": [
    "%%sql\n",
    "select sex, count(*) from demo.ml_titanic_raw.titanic group by sex"
   ]
  },
  {
   "cell_type": "code",
   "execution_count": 10,
   "id": "b48d2a30",
   "metadata": {},
   "outputs": [],
   "source": [
    "from pyspark.sql import functions as F\n",
    "\n",
    "# 1️⃣ Ler dados da camada bronze\n",
    "df_raw = spark.table(\"demo.ml_titanic_raw.titanic\")\n",
    "\n",
    "# 2️⃣ Padronizar nomes das colunas\n",
    "for old_col in df_raw.columns:\n",
    "    new_col = old_col.strip().lower().replace(\" \", \"_\")\n",
    "    df_raw = df_raw.withColumnRenamed(old_col, new_col)\n",
    "\n",
    "# 3️⃣ Normalizar strings\n",
    "df_clean = (\n",
    "    df_raw\n",
    "    .withColumn(\"name\", F.trim(F.col(\"name\")))\n",
    "    .withColumn(\"sex\", F.lower(F.trim(F.col(\"sex\"))))\n",
    "    .withColumn(\"embarked\", F.lower(F.trim(F.col(\"embarked\"))))\n",
    ")\n",
    "\n",
    "# 4️⃣ Corrigir NaN (convertendo-os para null)\n",
    "for c in [\"age\", \"fare\"]:\n",
    "    df_clean = df_clean.withColumn(c, F.when(F.isnan(F.col(c)) | F.isnull(F.col(c)), None).otherwise(F.col(c)))\n",
    "\n",
    "# 5️⃣ Substituir valores nulos\n",
    "avg_age = df_clean.select(F.round(F.avg(\"age\"), 1).alias(\"avg_age\")).collect()[0][\"avg_age\"]\n",
    "df_clean = df_clean.fillna({\"age\": avg_age, \"embarked\": \"s\"})\n",
    "\n",
    "# 6️⃣ Criar coluna derivada\n",
    "df_clean = df_clean.withColumn(\"is_child\", F.when(F.col(\"age\") < 18, 1).otherwise(0))\n",
    "\n",
    "# 7️⃣ Padronizar sexo (male/female → 1/0)\n",
    "df_clean = df_clean.withColumn(\"sex\", F.when(F.col(\"sex\") == \"male\", 1).otherwise(0))\n",
    "\n",
    "# 8️⃣ Corrigir NaN string (como cabin)\n",
    "df_clean = df_clean.withColumn(\n",
    "    \"cabin\",\n",
    "    F.when(\n",
    "        (F.col(\"cabin\").isNull()) | (F.col(\"cabin\") == \"NaN\") | (F.col(\"cabin\") == \"\"), \n",
    "        F.lit(\"-1\")\n",
    "    ).otherwise(F.col(\"cabin\"))\n",
    ")\n",
    "\n",
    "# 9️⃣ Remover duplicados\n",
    "df_clean = df_clean.dropDuplicates()"
   ]
  },
  {
   "cell_type": "code",
   "execution_count": 11,
   "id": "4ef60ccf",
   "metadata": {},
   "outputs": [
    {
     "name": "stdout",
     "output_type": "stream",
     "text": [
      "+-----------+--------+------+--------------------+---+----+-----+-----+-------------+-------+-----+--------+--------+\n",
      "|passengerid|survived|pclass|                name|sex| age|sibsp|parch|       ticket|   fare|cabin|embarked|is_child|\n",
      "+-----------+--------+------+--------------------+---+----+-----+-----+-------------+-------+-----+--------+--------+\n",
      "|         91|       0|     3|Christmann, Mr. Emil|  1|29.0|    0|    0|       343276|   8.05|   -1|       s|       0|\n",
      "|        264|       0|     1|Harrison, Mr. Wil...|  1|40.0|    0|    0|       112059|    0.0|  B94|       s|       0|\n",
      "|         26|       1|     3|Asplund, Mrs. Car...|  0|38.0|    1|    5|       347077|31.3875|   -1|       s|       0|\n",
      "|         43|       0|     3| Kraeff, Mr. Theodor|  1|29.7|    0|    0|       349253| 7.8958|   -1|       c|       0|\n",
      "|        115|       0|     3|Attalah, Miss Malake|  0|17.0|    0|    0|         2627|14.4583|   -1|       c|       1|\n",
      "|         99|       1|     2|Doling, Mrs. John...|  0|34.0|    0|    1|       231919|   23.0|   -1|       s|       0|\n",
      "|        127|       0|     3| McMahon, Mr. Martin|  1|29.7|    0|    0|       370372|   7.75|   -1|       q|       0|\n",
      "|        136|       0|     2|  Richard, Mr. Emile|  1|23.0|    0|    0|SC/PARIS 2133|15.0458|   -1|       c|       0|\n",
      "|        191|       1|     2| Pinsky, Mrs. (Rosa)|  0|32.0|    0|    0|       234604|   13.0|   -1|       s|       0|\n",
      "|        276|       1|     1|Andrews, Miss Kor...|  0|63.0|    1|    0|        13502|77.9583|   D7|       s|       0|\n",
      "+-----------+--------+------+--------------------+---+----+-----+-----+-------------+-------+-----+--------+--------+\n",
      "only showing top 10 rows\n",
      "\n"
     ]
    }
   ],
   "source": [
    "df_clean.show(10)"
   ]
  },
  {
   "cell_type": "code",
   "execution_count": 12,
   "id": "52979b12",
   "metadata": {},
   "outputs": [],
   "source": [
    "#df_clean.write.mode(\"overwrite\").saveAsTable(\"silver.ml_titanic_silver.titanic\")\n",
    "df_clean.writeTo(\"silver.ml_titanic_silver.titanic\") \\\n",
    "    .using(\"iceberg\") \\\n",
    "    .tableProperty(\"format-version\", \"2\") \\\n",
    "    .createOrReplace()\n"
   ]
  },
  {
   "cell_type": "code",
   "execution_count": 13,
   "id": "7b4e3e51",
   "metadata": {},
   "outputs": [
    {
     "data": {
      "text/html": [
       "<table>\n",
       "    <thead>\n",
       "        <tr>\n",
       "            <th>count(1)</th>\n",
       "        </tr>\n",
       "    </thead>\n",
       "    <tbody>\n",
       "        <tr>\n",
       "            <td>891</td>\n",
       "        </tr>\n",
       "    </tbody>\n",
       "</table>"
      ],
      "text/plain": [
       "+----------+\n",
       "| count(1) |\n",
       "+----------+\n",
       "|      891 |\n",
       "+----------+"
      ]
     },
     "execution_count": 13,
     "metadata": {},
     "output_type": "execute_result"
    }
   ],
   "source": [
    "%%sql\n",
    "select count(*) from silver.ml_titanic_silver.titanic"
   ]
  },
  {
   "cell_type": "code",
   "execution_count": 14,
   "id": "a45801fc",
   "metadata": {},
   "outputs": [
    {
     "data": {
      "text/html": [
       "<table>\n",
       "    <thead>\n",
       "        <tr>\n",
       "            <th>committed_at</th>\n",
       "            <th>snapshot_id</th>\n",
       "            <th>parent_id</th>\n",
       "            <th>operation</th>\n",
       "            <th>manifest_list</th>\n",
       "            <th>summary</th>\n",
       "        </tr>\n",
       "    </thead>\n",
       "    <tbody>\n",
       "        <tr>\n",
       "            <td>2025-10-11 11:43:38.489000</td>\n",
       "            <td>8697453100535808669</td>\n",
       "            <td>None</td>\n",
       "            <td>append</td>\n",
       "            <td>s3a://silver/warehouse/ml_titanic_silver/titanic/metadata/snap-8697453100535808669-1-e9e1df78-df64-4c37-bd62-99da6bdb8b9c.avro</td>\n",
       "            <td>{&#x27;engine-version&#x27;: &#x27;3.5.1&#x27;, &#x27;added-data-files&#x27;: &#x27;1&#x27;, &#x27;total-equality-deletes&#x27;: &#x27;0&#x27;, &#x27;app-id&#x27;: &#x27;local-1760193804119&#x27;, &#x27;added-records&#x27;: &#x27;891&#x27;, &#x27;total-records&#x27;: &#x27;891&#x27;, &#x27;spark.app.id&#x27;: &#x27;local-1760193804119&#x27;, &#x27;changed-partition-count&#x27;: &#x27;1&#x27;, &#x27;engine-name&#x27;: &#x27;spark&#x27;, &#x27;total-position-deletes&#x27;: &#x27;0&#x27;, &#x27;added-files-size&#x27;: &#x27;26118&#x27;, &#x27;total-delete-files&#x27;: &#x27;0&#x27;, &#x27;iceberg-version&#x27;: &#x27;Apache Iceberg 1.6.1 (commit 8e9d59d299be42b0bca9461457cd1e95dbaad086)&#x27;, &#x27;total-files-size&#x27;: &#x27;26118&#x27;, &#x27;total-data-files&#x27;: &#x27;1&#x27;}</td>\n",
       "        </tr>\n",
       "        <tr>\n",
       "            <td>2025-10-11 11:44:56.993000</td>\n",
       "            <td>6027476777183118668</td>\n",
       "            <td>None</td>\n",
       "            <td>append</td>\n",
       "            <td>s3a://silver/warehouse/ml_titanic_silver/titanic/metadata/snap-6027476777183118668-1-8a1e9e36-acac-4cff-abb5-7557deaf1821.avro</td>\n",
       "            <td>{&#x27;engine-version&#x27;: &#x27;3.5.1&#x27;, &#x27;added-data-files&#x27;: &#x27;1&#x27;, &#x27;total-equality-deletes&#x27;: &#x27;0&#x27;, &#x27;app-id&#x27;: &#x27;local-1760193804119&#x27;, &#x27;added-records&#x27;: &#x27;891&#x27;, &#x27;total-records&#x27;: &#x27;891&#x27;, &#x27;spark.app.id&#x27;: &#x27;local-1760193804119&#x27;, &#x27;changed-partition-count&#x27;: &#x27;1&#x27;, &#x27;engine-name&#x27;: &#x27;spark&#x27;, &#x27;total-position-deletes&#x27;: &#x27;0&#x27;, &#x27;added-files-size&#x27;: &#x27;26118&#x27;, &#x27;total-delete-files&#x27;: &#x27;0&#x27;, &#x27;iceberg-version&#x27;: &#x27;Apache Iceberg 1.6.1 (commit 8e9d59d299be42b0bca9461457cd1e95dbaad086)&#x27;, &#x27;total-files-size&#x27;: &#x27;26118&#x27;, &#x27;total-data-files&#x27;: &#x27;1&#x27;}</td>\n",
       "        </tr>\n",
       "        <tr>\n",
       "            <td>2025-10-11 11:46:28.893000</td>\n",
       "            <td>731501262550101068</td>\n",
       "            <td>None</td>\n",
       "            <td>append</td>\n",
       "            <td>s3a://silver/warehouse/ml_titanic_silver/titanic/metadata/snap-731501262550101068-1-b399bc14-0714-4b8b-a93b-fe2acb04231a.avro</td>\n",
       "            <td>{&#x27;engine-version&#x27;: &#x27;3.5.1&#x27;, &#x27;added-data-files&#x27;: &#x27;1&#x27;, &#x27;total-equality-deletes&#x27;: &#x27;0&#x27;, &#x27;app-id&#x27;: &#x27;local-1760193804119&#x27;, &#x27;added-records&#x27;: &#x27;891&#x27;, &#x27;total-records&#x27;: &#x27;891&#x27;, &#x27;spark.app.id&#x27;: &#x27;local-1760193804119&#x27;, &#x27;changed-partition-count&#x27;: &#x27;1&#x27;, &#x27;engine-name&#x27;: &#x27;spark&#x27;, &#x27;total-position-deletes&#x27;: &#x27;0&#x27;, &#x27;added-files-size&#x27;: &#x27;26118&#x27;, &#x27;total-delete-files&#x27;: &#x27;0&#x27;, &#x27;iceberg-version&#x27;: &#x27;Apache Iceberg 1.6.1 (commit 8e9d59d299be42b0bca9461457cd1e95dbaad086)&#x27;, &#x27;total-files-size&#x27;: &#x27;26118&#x27;, &#x27;total-data-files&#x27;: &#x27;1&#x27;}</td>\n",
       "        </tr>\n",
       "        <tr>\n",
       "            <td>2025-10-11 15:30:00.391000</td>\n",
       "            <td>6329781123246014202</td>\n",
       "            <td>None</td>\n",
       "            <td>append</td>\n",
       "            <td>s3a://silver/warehouse/ml_titanic_silver/titanic/metadata/snap-6329781123246014202-1-cc4fff7c-aa68-43e9-a18f-5da2aefaaf03.avro</td>\n",
       "            <td>{&#x27;engine-version&#x27;: &#x27;3.5.1&#x27;, &#x27;added-data-files&#x27;: &#x27;1&#x27;, &#x27;total-equality-deletes&#x27;: &#x27;0&#x27;, &#x27;app-id&#x27;: &#x27;local-1760207388180&#x27;, &#x27;added-records&#x27;: &#x27;891&#x27;, &#x27;total-records&#x27;: &#x27;891&#x27;, &#x27;spark.app.id&#x27;: &#x27;local-1760207388180&#x27;, &#x27;changed-partition-count&#x27;: &#x27;1&#x27;, &#x27;engine-name&#x27;: &#x27;spark&#x27;, &#x27;total-position-deletes&#x27;: &#x27;0&#x27;, &#x27;added-files-size&#x27;: &#x27;26118&#x27;, &#x27;total-delete-files&#x27;: &#x27;0&#x27;, &#x27;iceberg-version&#x27;: &#x27;Apache Iceberg 1.6.1 (commit 8e9d59d299be42b0bca9461457cd1e95dbaad086)&#x27;, &#x27;total-files-size&#x27;: &#x27;26118&#x27;, &#x27;total-data-files&#x27;: &#x27;1&#x27;}</td>\n",
       "        </tr>\n",
       "    </tbody>\n",
       "</table>"
      ],
      "text/plain": [
       "+----------------------------+---------------------+-----------+-----------+--------------------------------------------------------------------------------------------------------------------------------+---------------------------------------------------------------------------------------------------------------------------------------------------------------------------------------------------------------------------------------------------------------------------------------------------------------------------------------------------------------------------------------------------------------------------------------------------------------------------------------------------------------+\n",
       "|               committed_at |         snapshot_id | parent_id | operation |                                                                                                                  manifest_list |                                                                                                                                                                                                                                                                                                                                                                                                                                                                                                       summary |\n",
       "+----------------------------+---------------------+-----------+-----------+--------------------------------------------------------------------------------------------------------------------------------+---------------------------------------------------------------------------------------------------------------------------------------------------------------------------------------------------------------------------------------------------------------------------------------------------------------------------------------------------------------------------------------------------------------------------------------------------------------------------------------------------------------+\n",
       "| 2025-10-11 11:43:38.489000 | 8697453100535808669 |      None |    append | s3a://silver/warehouse/ml_titanic_silver/titanic/metadata/snap-8697453100535808669-1-e9e1df78-df64-4c37-bd62-99da6bdb8b9c.avro | {'engine-version': '3.5.1', 'added-data-files': '1', 'total-equality-deletes': '0', 'app-id': 'local-1760193804119', 'added-records': '891', 'total-records': '891', 'spark.app.id': 'local-1760193804119', 'changed-partition-count': '1', 'engine-name': 'spark', 'total-position-deletes': '0', 'added-files-size': '26118', 'total-delete-files': '0', 'iceberg-version': 'Apache Iceberg 1.6.1 (commit 8e9d59d299be42b0bca9461457cd1e95dbaad086)', 'total-files-size': '26118', 'total-data-files': '1'} |\n",
       "| 2025-10-11 11:44:56.993000 | 6027476777183118668 |      None |    append | s3a://silver/warehouse/ml_titanic_silver/titanic/metadata/snap-6027476777183118668-1-8a1e9e36-acac-4cff-abb5-7557deaf1821.avro | {'engine-version': '3.5.1', 'added-data-files': '1', 'total-equality-deletes': '0', 'app-id': 'local-1760193804119', 'added-records': '891', 'total-records': '891', 'spark.app.id': 'local-1760193804119', 'changed-partition-count': '1', 'engine-name': 'spark', 'total-position-deletes': '0', 'added-files-size': '26118', 'total-delete-files': '0', 'iceberg-version': 'Apache Iceberg 1.6.1 (commit 8e9d59d299be42b0bca9461457cd1e95dbaad086)', 'total-files-size': '26118', 'total-data-files': '1'} |\n",
       "| 2025-10-11 11:46:28.893000 |  731501262550101068 |      None |    append |  s3a://silver/warehouse/ml_titanic_silver/titanic/metadata/snap-731501262550101068-1-b399bc14-0714-4b8b-a93b-fe2acb04231a.avro | {'engine-version': '3.5.1', 'added-data-files': '1', 'total-equality-deletes': '0', 'app-id': 'local-1760193804119', 'added-records': '891', 'total-records': '891', 'spark.app.id': 'local-1760193804119', 'changed-partition-count': '1', 'engine-name': 'spark', 'total-position-deletes': '0', 'added-files-size': '26118', 'total-delete-files': '0', 'iceberg-version': 'Apache Iceberg 1.6.1 (commit 8e9d59d299be42b0bca9461457cd1e95dbaad086)', 'total-files-size': '26118', 'total-data-files': '1'} |\n",
       "| 2025-10-11 15:30:00.391000 | 6329781123246014202 |      None |    append | s3a://silver/warehouse/ml_titanic_silver/titanic/metadata/snap-6329781123246014202-1-cc4fff7c-aa68-43e9-a18f-5da2aefaaf03.avro | {'engine-version': '3.5.1', 'added-data-files': '1', 'total-equality-deletes': '0', 'app-id': 'local-1760207388180', 'added-records': '891', 'total-records': '891', 'spark.app.id': 'local-1760207388180', 'changed-partition-count': '1', 'engine-name': 'spark', 'total-position-deletes': '0', 'added-files-size': '26118', 'total-delete-files': '0', 'iceberg-version': 'Apache Iceberg 1.6.1 (commit 8e9d59d299be42b0bca9461457cd1e95dbaad086)', 'total-files-size': '26118', 'total-data-files': '1'} |\n",
       "+----------------------------+---------------------+-----------+-----------+--------------------------------------------------------------------------------------------------------------------------------+---------------------------------------------------------------------------------------------------------------------------------------------------------------------------------------------------------------------------------------------------------------------------------------------------------------------------------------------------------------------------------------------------------------------------------------------------------------------------------------------------------------+"
      ]
     },
     "execution_count": 14,
     "metadata": {},
     "output_type": "execute_result"
    }
   ],
   "source": [
    "%%sql\n",
    "select * from silver.ml_titanic_silver.titanic.snapshots"
   ]
  },
  {
   "cell_type": "code",
   "execution_count": 15,
   "id": "0725e596",
   "metadata": {},
   "outputs": [],
   "source": [
    "# pipeline gold"
   ]
  },
  {
   "cell_type": "code",
   "execution_count": 19,
   "id": "0f196382",
   "metadata": {},
   "outputs": [],
   "source": [
    "from pyspark.sql import functions as F\n",
    "\n",
    "# Ler dados da camada silver\n",
    "df_silver = spark.table(\"silver.ml_titanic_silver.titanic\")\n",
    "\n",
    "# Selecionar e transformar as colunas relevantes para ML\n",
    "df_ml = (\n",
    "    df_silver\n",
    "    # Escolher colunas úteis\n",
    "    .select(\n",
    "        \"passengerid\",\n",
    "        \"survived\",\n",
    "        \"pclass\",\n",
    "        \"sex\",\n",
    "        \"age\",\n",
    "        \"sibsp\",\n",
    "        \"parch\",\n",
    "        \"fare\",\n",
    "        \"embarked\",\n",
    "        \"is_child\"\n",
    "    )\n",
    "    # Codificar valores categóricos\n",
    "    .withColumn(\"embarked_s\", F.when(F.col(\"embarked\") == \"s\", 1).otherwise(0))\n",
    "    .withColumn(\"embarked_c\", F.when(F.col(\"embarked\") == \"c\", 1).otherwise(0))\n",
    "    .withColumn(\"embarked_q\", F.when(F.col(\"embarked\") == \"q\", 1).otherwise(0))\n",
    "    # Garantir que não há nulos\n",
    "    .na.fill(0)\n",
    ")"
   ]
  },
  {
   "cell_type": "code",
   "execution_count": 20,
   "id": "be9d52a6",
   "metadata": {},
   "outputs": [],
   "source": [
    "# Criar tabela ML-ready (substitui se já existir)\n",
    "df_ml.writeTo(\"gold.ml_titanic.titanic_features\") \\\n",
    "    .using(\"iceberg\") \\\n",
    "    .tableProperty(\"format-version\", \"2\") \\\n",
    "    .createOrReplace()"
   ]
  },
  {
   "cell_type": "code",
   "execution_count": 23,
   "id": "abc34160",
   "metadata": {},
   "outputs": [
    {
     "data": {
      "text/html": [
       "<table>\n",
       "    <thead>\n",
       "        <tr>\n",
       "            <th>passengerid</th>\n",
       "            <th>survived</th>\n",
       "            <th>pclass</th>\n",
       "            <th>sex</th>\n",
       "            <th>age</th>\n",
       "            <th>sibsp</th>\n",
       "            <th>parch</th>\n",
       "            <th>fare</th>\n",
       "            <th>embarked</th>\n",
       "            <th>is_child</th>\n",
       "            <th>embarked_s</th>\n",
       "            <th>embarked_c</th>\n",
       "            <th>embarked_q</th>\n",
       "        </tr>\n",
       "    </thead>\n",
       "    <tbody>\n",
       "        <tr>\n",
       "            <td>91</td>\n",
       "            <td>0</td>\n",
       "            <td>3</td>\n",
       "            <td>1</td>\n",
       "            <td>29.0</td>\n",
       "            <td>0</td>\n",
       "            <td>0</td>\n",
       "            <td>8.05</td>\n",
       "            <td>s</td>\n",
       "            <td>0</td>\n",
       "            <td>1</td>\n",
       "            <td>0</td>\n",
       "            <td>0</td>\n",
       "        </tr>\n",
       "        <tr>\n",
       "            <td>264</td>\n",
       "            <td>0</td>\n",
       "            <td>1</td>\n",
       "            <td>1</td>\n",
       "            <td>40.0</td>\n",
       "            <td>0</td>\n",
       "            <td>0</td>\n",
       "            <td>0.0</td>\n",
       "            <td>s</td>\n",
       "            <td>0</td>\n",
       "            <td>1</td>\n",
       "            <td>0</td>\n",
       "            <td>0</td>\n",
       "        </tr>\n",
       "        <tr>\n",
       "            <td>26</td>\n",
       "            <td>1</td>\n",
       "            <td>3</td>\n",
       "            <td>0</td>\n",
       "            <td>38.0</td>\n",
       "            <td>1</td>\n",
       "            <td>5</td>\n",
       "            <td>31.3875</td>\n",
       "            <td>s</td>\n",
       "            <td>0</td>\n",
       "            <td>1</td>\n",
       "            <td>0</td>\n",
       "            <td>0</td>\n",
       "        </tr>\n",
       "    </tbody>\n",
       "</table>"
      ],
      "text/plain": [
       "+-------------+----------+--------+-----+------+-------+-------+---------+----------+----------+------------+------------+------------+\n",
       "| passengerid | survived | pclass | sex |  age | sibsp | parch |    fare | embarked | is_child | embarked_s | embarked_c | embarked_q |\n",
       "+-------------+----------+--------+-----+------+-------+-------+---------+----------+----------+------------+------------+------------+\n",
       "|          91 |        0 |      3 |   1 | 29.0 |     0 |     0 |    8.05 |        s |        0 |          1 |          0 |          0 |\n",
       "|         264 |        0 |      1 |   1 | 40.0 |     0 |     0 |     0.0 |        s |        0 |          1 |          0 |          0 |\n",
       "|          26 |        1 |      3 |   0 | 38.0 |     1 |     5 | 31.3875 |        s |        0 |          1 |          0 |          0 |\n",
       "+-------------+----------+--------+-----+------+-------+-------+---------+----------+----------+------------+------------+------------+"
      ]
     },
     "execution_count": 23,
     "metadata": {},
     "output_type": "execute_result"
    }
   ],
   "source": [
    "%%sql\n",
    "select * from gold.ml_titanic.titanic_features limit 3"
   ]
  },
  {
   "cell_type": "code",
   "execution_count": null,
   "id": "cf785745",
   "metadata": {},
   "outputs": [],
   "source": []
  }
 ],
 "metadata": {
  "kernelspec": {
   "display_name": "iceberg",
   "language": "python",
   "name": "python3"
  },
  "language_info": {
   "codemirror_mode": {
    "name": "ipython",
    "version": 3
   },
   "file_extension": ".py",
   "mimetype": "text/x-python",
   "name": "python",
   "nbconvert_exporter": "python",
   "pygments_lexer": "ipython3",
   "version": "3.10.18"
  }
 },
 "nbformat": 4,
 "nbformat_minor": 5
}
