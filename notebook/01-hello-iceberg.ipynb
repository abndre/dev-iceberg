{
 "cells": [
  {
   "cell_type": "code",
   "execution_count": 1,
   "id": "ef8b0b91",
   "metadata": {},
   "outputs": [
    {
     "name": "stderr",
     "output_type": "stream",
     "text": [
      "your 131072x1 screen size is bogus. expect trouble\n",
      "25/10/19 20:54:24 WARN Utils: Your hostname, DESKTOP-4LPUPP7 resolves to a loopback address: 127.0.1.1; using 10.255.255.254 instead (on interface lo)\n",
      "25/10/19 20:54:24 WARN Utils: Set SPARK_LOCAL_IP if you need to bind to another address\n"
     ]
    },
    {
     "name": "stdout",
     "output_type": "stream",
     "text": [
      ":: loading settings :: url = jar:file:/home/andre/miniforge3/envs/iceberg/lib/python3.10/site-packages/pyspark/jars/ivy-2.5.1.jar!/org/apache/ivy/core/settings/ivysettings.xml\n"
     ]
    },
    {
     "name": "stderr",
     "output_type": "stream",
     "text": [
      "Ivy Default Cache set to: /home/andre/.ivy2/cache\n",
      "The jars for the packages stored in: /home/andre/.ivy2/jars\n",
      "org.apache.iceberg#iceberg-spark-runtime-3.4_2.12 added as a dependency\n",
      "org.apache.hadoop#hadoop-aws added as a dependency\n",
      ":: resolving dependencies :: org.apache.spark#spark-submit-parent-79449eac-4ec4-48b4-af40-a413fcfc832b;1.0\n",
      "\tconfs: [default]\n",
      "\tfound org.apache.iceberg#iceberg-spark-runtime-3.4_2.12;1.6.1 in central\n",
      "\tfound org.apache.hadoop#hadoop-aws;3.3.4 in central\n",
      "\tfound com.amazonaws#aws-java-sdk-bundle;1.12.262 in central\n",
      "\tfound org.wildfly.openssl#wildfly-openssl;1.0.7.Final in central\n",
      ":: resolution report :: resolve 192ms :: artifacts dl 8ms\n",
      "\t:: modules in use:\n",
      "\tcom.amazonaws#aws-java-sdk-bundle;1.12.262 from central in [default]\n",
      "\torg.apache.hadoop#hadoop-aws;3.3.4 from central in [default]\n",
      "\torg.apache.iceberg#iceberg-spark-runtime-3.4_2.12;1.6.1 from central in [default]\n",
      "\torg.wildfly.openssl#wildfly-openssl;1.0.7.Final from central in [default]\n",
      "\t---------------------------------------------------------------------\n",
      "\t|                  |            modules            ||   artifacts   |\n",
      "\t|       conf       | number| search|dwnlded|evicted|| number|dwnlded|\n",
      "\t---------------------------------------------------------------------\n",
      "\t|      default     |   4   |   0   |   0   |   0   ||   4   |   0   |\n",
      "\t---------------------------------------------------------------------\n",
      ":: retrieving :: org.apache.spark#spark-submit-parent-79449eac-4ec4-48b4-af40-a413fcfc832b\n",
      "\tconfs: [default]\n",
      "\t0 artifacts copied, 4 already retrieved (0kB/5ms)\n",
      "25/10/19 20:54:25 WARN NativeCodeLoader: Unable to load native-hadoop library for your platform... using builtin-java classes where applicable\n",
      "Setting default log level to \"WARN\".\n",
      "To adjust logging level use sc.setLogLevel(newLevel). For SparkR, use setLogLevel(newLevel).\n"
     ]
    },
    {
     "name": "stderr",
     "output_type": "stream",
     "text": [
      "25/10/19 20:54:42 WARN GarbageCollectionMetrics: To enable non-built-in garbage collector(s) List(G1 Concurrent GC), users should configure it(them) to spark.eventLog.gcMetrics.youngGenerationGarbageCollectors or spark.eventLog.gcMetrics.oldGenerationGarbageCollectors\n"
     ]
    }
   ],
   "source": [
    "from pyspark.sql import SparkSession\n",
    "\n",
    "spark = (\n",
    "    SparkSession.builder\n",
    "    .appName(\"IcebergMinIO\")\n",
    "    .config(\n",
    "        \"spark.jars.packages\",\n",
    "        \"org.apache.iceberg:iceberg-spark-runtime-3.4_2.12:1.6.1,\"\n",
    "        \"org.apache.hadoop:hadoop-aws:3.3.4\"\n",
    "    )\n",
    "    .config(\"spark.sql.catalog.demo\", \"org.apache.iceberg.spark.SparkCatalog\")\n",
    "    .config(\"spark.sql.catalog.demo.type\", \"hadoop\")\n",
    "    .config(\"spark.sql.catalog.demo.warehouse\", \"s3a://bronze/warehouse/\")\n",
    "    .config(\"spark.hadoop.fs.s3a.access.key\", \"teste\")\n",
    "    .config(\"spark.hadoop.fs.s3a.secret.key\", \"password\")\n",
    "    .config(\"spark.hadoop.fs.s3a.endpoint\", \"http://localhost:9000\")\n",
    "    .config(\"spark.hadoop.fs.s3a.path.style.access\", \"true\")\n",
    "    .config(\"spark.hadoop.fs.s3a.impl\", \"org.apache.hadoop.fs.s3a.S3AFileSystem\")\n",
    "    .getOrCreate()\n",
    ")"
   ]
  },
  {
   "cell_type": "code",
   "execution_count": 4,
   "id": "40bc3d8e",
   "metadata": {},
   "outputs": [
    {
     "data": {
      "text/plain": [
       "DataFrame[]"
      ]
     },
     "execution_count": 4,
     "metadata": {},
     "output_type": "execute_result"
    }
   ],
   "source": [
    "spark.sql(\"CREATE DATABASE IF NOT EXISTS demo.db_teste\")\n"
   ]
  },
  {
   "cell_type": "code",
   "execution_count": 5,
   "id": "a5f71f7c",
   "metadata": {},
   "outputs": [
    {
     "name": "stdout",
     "output_type": "stream",
     "text": [
      "✅ Tabela criada com sucesso!\n"
     ]
    }
   ],
   "source": [
    "spark.sql(\"\"\"\n",
    "    CREATE TABLE demo.db_teste.teste (\n",
    "        id INT,\n",
    "        nome STRING,\n",
    "        valor DOUBLE\n",
    "    ) USING ICEBERG\n",
    "\"\"\")\n",
    "\n",
    "print(\"✅ Tabela criada com sucesso!\")"
   ]
  },
  {
   "cell_type": "code",
   "execution_count": 6,
   "id": "a4c35e40",
   "metadata": {},
   "outputs": [
    {
     "name": "stderr",
     "output_type": "stream",
     "text": [
      "                                                                                \r"
     ]
    },
    {
     "data": {
      "text/plain": [
       "DataFrame[]"
      ]
     },
     "execution_count": 6,
     "metadata": {},
     "output_type": "execute_result"
    }
   ],
   "source": [
    "spark.sql(\"INSERT INTO demo.db_teste.teste VALUES (1, 'A', 10.5), (2, 'B', 20.0)\")"
   ]
  },
  {
   "cell_type": "code",
   "execution_count": 7,
   "id": "42eb2c78",
   "metadata": {},
   "outputs": [
    {
     "name": "stdout",
     "output_type": "stream",
     "text": [
      "+---+----+-----+\n",
      "| id|nome|valor|\n",
      "+---+----+-----+\n",
      "|  1|   A| 10.5|\n",
      "|  2|   B| 20.0|\n",
      "+---+----+-----+\n",
      "\n"
     ]
    }
   ],
   "source": [
    "spark.sql(\"SELECT * FROM demo.db_teste.teste\").show()"
   ]
  },
  {
   "cell_type": "code",
   "execution_count": 5,
   "id": "f5881860",
   "metadata": {},
   "outputs": [
    {
     "data": {
      "text/plain": [
       "DataFrame[]"
      ]
     },
     "execution_count": 5,
     "metadata": {},
     "output_type": "execute_result"
    }
   ],
   "source": [
    "spark.sql(\"INSERT INTO demo.db_teste_iceberg.teste VALUES (3, 'C', 11.5), (4, 'B', 21.0)\")"
   ]
  },
  {
   "cell_type": "code",
   "execution_count": 6,
   "id": "567fa4fa",
   "metadata": {},
   "outputs": [
    {
     "name": "stdout",
     "output_type": "stream",
     "text": [
      "+---+----+-----+\n",
      "| id|nome|valor|\n",
      "+---+----+-----+\n",
      "|  1|   A| 10.5|\n",
      "|  3|   C| 11.5|\n",
      "|  2|   B| 20.0|\n",
      "|  4|   B| 21.0|\n",
      "+---+----+-----+\n",
      "\n"
     ]
    }
   ],
   "source": [
    "spark.sql(\"SELECT * FROM demo.db_teste_iceberg.teste\").show()"
   ]
  },
  {
   "cell_type": "code",
   "execution_count": 8,
   "id": "2224ad79",
   "metadata": {},
   "outputs": [
    {
     "name": "stdout",
     "output_type": "stream",
     "text": [
      "+-------------+\n",
      "|      catalog|\n",
      "+-------------+\n",
      "|         demo|\n",
      "|spark_catalog|\n",
      "+-------------+\n",
      "\n"
     ]
    }
   ],
   "source": [
    "spark.sql(\"show catalogs\").show()"
   ]
  },
  {
   "cell_type": "code",
   "execution_count": 9,
   "id": "acb0a50c",
   "metadata": {},
   "outputs": [
    {
     "name": "stdout",
     "output_type": "stream",
     "text": [
      "+----------------+\n",
      "|       namespace|\n",
      "+----------------+\n",
      "|db_teste_iceberg|\n",
      "+----------------+\n",
      "\n"
     ]
    }
   ],
   "source": [
    "spark.sql(\"SHOW DATABASES IN demo\").show()\n",
    "\n",
    "\n"
   ]
  },
  {
   "cell_type": "code",
   "execution_count": 10,
   "id": "ba1414fa",
   "metadata": {},
   "outputs": [
    {
     "name": "stdout",
     "output_type": "stream",
     "text": [
      "+----------------+---------+-----------+\n",
      "|       namespace|tableName|isTemporary|\n",
      "+----------------+---------+-----------+\n",
      "|db_teste_iceberg|    teste|      false|\n",
      "+----------------+---------+-----------+\n",
      "\n"
     ]
    }
   ],
   "source": [
    "spark.sql(\"SHOW TABLES IN demo.db_teste_iceberg\").show()\n"
   ]
  },
  {
   "cell_type": "code",
   "execution_count": 13,
   "id": "bf03a06e",
   "metadata": {},
   "outputs": [
    {
     "name": "stdout",
     "output_type": "stream",
     "text": [
      "+-----------------------+-------------------+-------------------+-------------------+\n",
      "|made_current_at        |snapshot_id        |parent_id          |is_current_ancestor|\n",
      "+-----------------------+-------------------+-------------------+-------------------+\n",
      "|2025-10-08 20:18:02.407|3295861635440732690|NULL               |true               |\n",
      "|2025-10-08 20:18:05.447|8523423454150741093|3295861635440732690|true               |\n",
      "+-----------------------+-------------------+-------------------+-------------------+\n",
      "\n"
     ]
    }
   ],
   "source": [
    "spark.sql(\"SELECT * FROM demo.db_teste_iceberg.teste.history\").show(truncate=False)\n"
   ]
  },
  {
   "cell_type": "code",
   "execution_count": 14,
   "id": "ebff977c",
   "metadata": {},
   "outputs": [
    {
     "name": "stdout",
     "output_type": "stream",
     "text": [
      "+-------+---------------------------------------------------------------------------------------------------------------+-----------+-------+------------+------------------+---------------------------+------------------------+------------------------+----------------+---------------------------------------------------------------+---------------------------------------------------------------+------------+-------------+------------+-------------+---------------------------------------------------------------------------+\n",
      "|content|file_path                                                                                                      |file_format|spec_id|record_count|file_size_in_bytes|column_sizes               |value_counts            |null_value_counts       |nan_value_counts|lower_bounds                                                   |upper_bounds                                                   |key_metadata|split_offsets|equality_ids|sort_order_id|readable_metrics                                                           |\n",
      "+-------+---------------------------------------------------------------------------------------------------------------+-----------+-------+------------+------------------+---------------------------+------------------------+------------------------+----------------+---------------------------------------------------------------+---------------------------------------------------------------+------------+-------------+------------+-------------+---------------------------------------------------------------------------+\n",
      "|0      |s3a://bronze/warehouse/db_teste_iceberg/teste/data/00000-3-1eb84a47-8797-46e1-ba5f-642bbaa56280-0-00001.parquet|PARQUET    |0      |1           |846               |{1 -> 35, 2 -> 37, 3 -> 40}|{1 -> 1, 2 -> 1, 3 -> 1}|{1 -> 0, 2 -> 0, 3 -> 0}|{3 -> 0}        |{1 -> [03 00 00 00], 2 -> [43], 3 -> [00 00 00 00 00 00 27 40]}|{1 -> [03 00 00 00], 2 -> [43], 3 -> [00 00 00 00 00 00 27 40]}|NULL        |[4]          |NULL        |0            |{{35, 1, 0, NULL, 3, 3}, {37, 1, 0, NULL, C, C}, {40, 1, 0, 0, 11.5, 11.5}}|\n",
      "|0      |s3a://bronze/warehouse/db_teste_iceberg/teste/data/00001-4-1eb84a47-8797-46e1-ba5f-642bbaa56280-0-00001.parquet|PARQUET    |0      |1           |847               |{1 -> 36, 2 -> 37, 3 -> 40}|{1 -> 1, 2 -> 1, 3 -> 1}|{1 -> 0, 2 -> 0, 3 -> 0}|{3 -> 0}        |{1 -> [04 00 00 00], 2 -> [42], 3 -> [00 00 00 00 00 00 35 40]}|{1 -> [04 00 00 00], 2 -> [42], 3 -> [00 00 00 00 00 00 35 40]}|NULL        |[4]          |NULL        |0            |{{36, 1, 0, NULL, 4, 4}, {37, 1, 0, NULL, B, B}, {40, 1, 0, 0, 21.0, 21.0}}|\n",
      "|0      |s3a://bronze/warehouse/db_teste_iceberg/teste/data/00000-0-94fb5194-bbce-4224-acf8-738b29e5766d-0-00001.parquet|PARQUET    |0      |1           |847               |{1 -> 36, 2 -> 37, 3 -> 40}|{1 -> 1, 2 -> 1, 3 -> 1}|{1 -> 0, 2 -> 0, 3 -> 0}|{3 -> 0}        |{1 -> [01 00 00 00], 2 -> [41], 3 -> [00 00 00 00 00 00 25 40]}|{1 -> [01 00 00 00], 2 -> [41], 3 -> [00 00 00 00 00 00 25 40]}|NULL        |[4]          |NULL        |0            |{{36, 1, 0, NULL, 1, 1}, {37, 1, 0, NULL, A, A}, {40, 1, 0, 0, 10.5, 10.5}}|\n",
      "|0      |s3a://bronze/warehouse/db_teste_iceberg/teste/data/00001-1-94fb5194-bbce-4224-acf8-738b29e5766d-0-00001.parquet|PARQUET    |0      |1           |847               |{1 -> 36, 2 -> 37, 3 -> 40}|{1 -> 1, 2 -> 1, 3 -> 1}|{1 -> 0, 2 -> 0, 3 -> 0}|{3 -> 0}        |{1 -> [02 00 00 00], 2 -> [42], 3 -> [00 00 00 00 00 00 34 40]}|{1 -> [02 00 00 00], 2 -> [42], 3 -> [00 00 00 00 00 00 34 40]}|NULL        |[4]          |NULL        |0            |{{36, 1, 0, NULL, 2, 2}, {37, 1, 0, NULL, B, B}, {40, 1, 0, 0, 20.0, 20.0}}|\n",
      "+-------+---------------------------------------------------------------------------------------------------------------+-----------+-------+------------+------------------+---------------------------+------------------------+------------------------+----------------+---------------------------------------------------------------+---------------------------------------------------------------+------------+-------------+------------+-------------+---------------------------------------------------------------------------+\n",
      "\n"
     ]
    }
   ],
   "source": [
    "spark.sql(\"SELECT * FROM demo.db_teste_iceberg.teste.files\").show(truncate=False)\n"
   ]
  },
  {
   "cell_type": "code",
   "execution_count": null,
   "id": "1c7821e2",
   "metadata": {},
   "outputs": [],
   "source": []
  }
 ],
 "metadata": {
  "kernelspec": {
   "display_name": "iceberg",
   "language": "python",
   "name": "python3"
  },
  "language_info": {
   "codemirror_mode": {
    "name": "ipython",
    "version": 3
   },
   "file_extension": ".py",
   "mimetype": "text/x-python",
   "name": "python",
   "nbconvert_exporter": "python",
   "pygments_lexer": "ipython3",
   "version": "3.10.18"
  }
 },
 "nbformat": 4,
 "nbformat_minor": 5
}
