{
 "cells": [
  {
   "cell_type": "code",
   "execution_count": 19,
   "id": "7c6722e0-b086-40b8-9a53-264c855688dd",
   "metadata": {},
   "outputs": [
    {
     "name": "stderr",
     "output_type": "stream",
     "text": [
      "25/02/15 18:59:06 WARN SparkSession: Using an existing Spark session; only runtime SQL configurations will take effect.\n"
     ]
    }
   ],
   "source": [
    "from pyspark.sql import SparkSession\n",
    "from pyspark.sql.functions import col\n",
    "from pyspark.ml.feature import StringIndexer, OneHotEncoder\n",
    "import pandas as pd\n",
    "\n",
    "# Criar um SparkSession\n",
    "spark = SparkSession.builder.appName(\"titanic\").getOrCreate()"
   ]
  },
  {
   "cell_type": "code",
   "execution_count": 3,
   "id": "7d92a6b1-f4b0-46b7-a095-1539ec7b5b88",
   "metadata": {},
   "outputs": [],
   "source": [
    "df = pd.read_csv(\"https://raw.githubusercontent.com/pandas-dev/pandas/master/doc/data/titanic.csv\")"
   ]
  },
  {
   "cell_type": "code",
   "execution_count": 5,
   "id": "baf26b28-3fb1-4e43-9aa0-f9ae1a931b68",
   "metadata": {},
   "outputs": [
    {
     "data": {
      "text/html": [
       "<div>\n",
       "<style scoped>\n",
       "    .dataframe tbody tr th:only-of-type {\n",
       "        vertical-align: middle;\n",
       "    }\n",
       "\n",
       "    .dataframe tbody tr th {\n",
       "        vertical-align: top;\n",
       "    }\n",
       "\n",
       "    .dataframe thead th {\n",
       "        text-align: right;\n",
       "    }\n",
       "</style>\n",
       "<table border=\"1\" class=\"dataframe\">\n",
       "  <thead>\n",
       "    <tr style=\"text-align: right;\">\n",
       "      <th></th>\n",
       "      <th>PassengerId</th>\n",
       "      <th>Survived</th>\n",
       "      <th>Pclass</th>\n",
       "      <th>Name</th>\n",
       "      <th>Sex</th>\n",
       "      <th>Age</th>\n",
       "      <th>SibSp</th>\n",
       "      <th>Parch</th>\n",
       "      <th>Ticket</th>\n",
       "      <th>Fare</th>\n",
       "      <th>Cabin</th>\n",
       "      <th>Embarked</th>\n",
       "    </tr>\n",
       "  </thead>\n",
       "  <tbody>\n",
       "    <tr>\n",
       "      <th>0</th>\n",
       "      <td>1</td>\n",
       "      <td>0</td>\n",
       "      <td>3</td>\n",
       "      <td>Braund, Mr. Owen Harris</td>\n",
       "      <td>male</td>\n",
       "      <td>22.0</td>\n",
       "      <td>1</td>\n",
       "      <td>0</td>\n",
       "      <td>A/5 21171</td>\n",
       "      <td>7.2500</td>\n",
       "      <td>NaN</td>\n",
       "      <td>S</td>\n",
       "    </tr>\n",
       "    <tr>\n",
       "      <th>1</th>\n",
       "      <td>2</td>\n",
       "      <td>1</td>\n",
       "      <td>1</td>\n",
       "      <td>Cumings, Mrs. John Bradley (Florence Briggs Th...</td>\n",
       "      <td>female</td>\n",
       "      <td>38.0</td>\n",
       "      <td>1</td>\n",
       "      <td>0</td>\n",
       "      <td>PC 17599</td>\n",
       "      <td>71.2833</td>\n",
       "      <td>C85</td>\n",
       "      <td>C</td>\n",
       "    </tr>\n",
       "  </tbody>\n",
       "</table>\n",
       "</div>"
      ],
      "text/plain": [
       "   PassengerId  Survived  Pclass  \\\n",
       "0            1         0       3   \n",
       "1            2         1       1   \n",
       "\n",
       "                                                Name     Sex   Age  SibSp  \\\n",
       "0                            Braund, Mr. Owen Harris    male  22.0      1   \n",
       "1  Cumings, Mrs. John Bradley (Florence Briggs Th...  female  38.0      1   \n",
       "\n",
       "   Parch     Ticket     Fare Cabin Embarked  \n",
       "0      0  A/5 21171   7.2500   NaN        S  \n",
       "1      0   PC 17599  71.2833   C85        C  "
      ]
     },
     "execution_count": 5,
     "metadata": {},
     "output_type": "execute_result"
    }
   ],
   "source": [
    "df.head(2)"
   ]
  },
  {
   "cell_type": "code",
   "execution_count": 6,
   "id": "3f29f0bf-613d-4814-bea4-bfd30110258b",
   "metadata": {
    "scrolled": true
   },
   "outputs": [
    {
     "name": "stderr",
     "output_type": "stream",
     "text": [
      "25/02/15 18:50:32 WARN SparkSession: Using an existing Spark session; only runtime SQL configurations will take effect.\n"
     ]
    },
    {
     "data": {
      "text/html": [
       "<table>\n",
       "    <thead>\n",
       "        <tr>\n",
       "        </tr>\n",
       "    </thead>\n",
       "    <tbody>\n",
       "    </tbody>\n",
       "</table>"
      ],
      "text/plain": [
       "++\n",
       "||\n",
       "++\n",
       "++"
      ]
     },
     "execution_count": 6,
     "metadata": {},
     "output_type": "execute_result"
    }
   ],
   "source": [
    "%%sql\n",
    "\n",
    "CREATE DATABASE IF NOT EXISTS ml_titanic;"
   ]
  },
  {
   "cell_type": "code",
   "execution_count": 26,
   "id": "7d0ae301-305a-47ce-84c3-e634a6aa2d43",
   "metadata": {},
   "outputs": [],
   "source": [
    "# Determinar o ponto de divisão (exemplo: 50%)\n",
    "split_index = len(df) // 2\n",
    "\n",
    "# Dividir o DataFrame\n",
    "df1 = df.iloc[:split_index]  # Primeira metade\n",
    "df2 = df.iloc[split_index:]  # Segunda metade"
   ]
  },
  {
   "cell_type": "code",
   "execution_count": 27,
   "id": "38b50b03-fcca-4bc5-b9c8-4d967323fca9",
   "metadata": {},
   "outputs": [
    {
     "data": {
      "text/plain": [
       "((445, 12), (446, 12))"
      ]
     },
     "execution_count": 27,
     "metadata": {},
     "output_type": "execute_result"
    }
   ],
   "source": [
    "df1.shape, df2.shape"
   ]
  },
  {
   "cell_type": "code",
   "execution_count": 7,
   "id": "e63f0d15-404c-4c40-afba-5382296c84e9",
   "metadata": {},
   "outputs": [],
   "source": []
  },
  {
   "cell_type": "code",
   "execution_count": 50,
   "id": "8debb189-54cc-4c3f-93d7-b4ce7f99aca5",
   "metadata": {},
   "outputs": [
    {
     "name": "stdout",
     "output_type": "stream",
     "text": [
      "445\n"
     ]
    }
   ],
   "source": [
    "spark_df = spark.createDataFrame(df1)\n",
    "print(spark_df.count())\n",
    "cols_to_drop = [\"PassengerId\", \"Name\", \"Ticket\", \"Cabin\"]\n",
    "spark_df = spark_df.drop(*cols_to_drop)\n",
    "\n",
    "# 2. Remover linhas com valores nulos\n",
    "spark_df = spark_df.dropna()\n",
    "\n",
    "# 3. Transformar variáveis categóricas em numéricas\n",
    "indexer_sex = StringIndexer(inputCol=\"Sex\", outputCol=\"Sex_Indexed\", handleInvalid=\"keep\")\n",
    "indexer_embarked = StringIndexer(inputCol=\"Embarked\", outputCol=\"Embarked_Indexed\", handleInvalid=\"keep\")\n",
    "\n",
    "spark_df = indexer_sex.fit(spark_df).transform(spark_df)\n",
    "spark_df = indexer_embarked.fit(spark_df).transform(spark_df)\n",
    "\n",
    "# Remover colunas categóricas originais\n",
    "spark_df_silver = spark_df.drop(\"Sex\", \"Embarked\")\n",
    "\n",
    "# Mostrar resultado\n",
    "#spark_df_silver.show(5)\n",
    "spark_df_silver.write.mode(\"overwrite\").saveAsTable(\"ml_titanic.refined_titanic\")"
   ]
  },
  {
   "cell_type": "code",
   "execution_count": 51,
   "id": "163c72c2-065a-49a3-849a-54235e2d2d32",
   "metadata": {},
   "outputs": [
    {
     "data": {
      "text/html": [
       "<table>\n",
       "    <thead>\n",
       "        <tr>\n",
       "            <th>count(1)</th>\n",
       "        </tr>\n",
       "    </thead>\n",
       "    <tbody>\n",
       "        <tr>\n",
       "            <td>357</td>\n",
       "        </tr>\n",
       "    </tbody>\n",
       "</table>"
      ],
      "text/plain": [
       "+----------+\n",
       "| count(1) |\n",
       "+----------+\n",
       "|      357 |\n",
       "+----------+"
      ]
     },
     "execution_count": 51,
     "metadata": {},
     "output_type": "execute_result"
    }
   ],
   "source": [
    "%%sql\n",
    "select count(1) from ml_titanic.refined_titanic"
   ]
  },
  {
   "cell_type": "code",
   "execution_count": 52,
   "id": "da03b2e7-ffc1-44ac-bf53-ba3b8f4480db",
   "metadata": {},
   "outputs": [
    {
     "name": "stdout",
     "output_type": "stream",
     "text": [
      "446\n"
     ]
    }
   ],
   "source": [
    "spark_df = spark.createDataFrame(df2)\n",
    "print(spark_df.count())\n",
    "cols_to_drop = [\"PassengerId\", \"Name\", \"Ticket\", \"Cabin\"]\n",
    "spark_df = spark_df.drop(*cols_to_drop)\n",
    "\n",
    "# 2. Remover linhas com valores nulos\n",
    "spark_df = spark_df.dropna()\n",
    "\n",
    "# 3. Transformar variáveis categóricas em numéricas\n",
    "indexer_sex = StringIndexer(inputCol=\"Sex\", outputCol=\"Sex_Indexed\", handleInvalid=\"keep\")\n",
    "indexer_embarked = StringIndexer(inputCol=\"Embarked\", outputCol=\"Embarked_Indexed\", handleInvalid=\"keep\")\n",
    "\n",
    "spark_df = indexer_sex.fit(spark_df).transform(spark_df)\n",
    "spark_df = indexer_embarked.fit(spark_df).transform(spark_df)\n",
    "\n",
    "# Remover colunas categóricas originais\n",
    "spark_df_silver = spark_df.drop(\"Sex\", \"Embarked\")\n",
    "\n",
    "# Mostrar resultado\n",
    "#spark_df_silver.show(5)\n",
    "#spark_df_silver.write.mode(\"append\").saveAsTable(\"ml_titanic.refined_titanic\")\n",
    "spark_df_silver.write \\\n",
    "  .format(\"iceberg\") \\\n",
    "  .mode(\"append\") \\\n",
    "  .save(\"ml_titanic.refined_titanic\")\n"
   ]
  },
  {
   "cell_type": "code",
   "execution_count": 54,
   "id": "a28c3a61-70ab-444c-bd53-0384237c6b8c",
   "metadata": {},
   "outputs": [
    {
     "data": {
      "text/html": [
       "<table>\n",
       "    <thead>\n",
       "        <tr>\n",
       "            <th>count(1)</th>\n",
       "        </tr>\n",
       "    </thead>\n",
       "    <tbody>\n",
       "        <tr>\n",
       "            <td>714</td>\n",
       "        </tr>\n",
       "    </tbody>\n",
       "</table>"
      ],
      "text/plain": [
       "+----------+\n",
       "| count(1) |\n",
       "+----------+\n",
       "|      714 |\n",
       "+----------+"
      ]
     },
     "execution_count": 54,
     "metadata": {},
     "output_type": "execute_result"
    }
   ],
   "source": [
    "%%sql\n",
    "select count(1) from ml_titanic.refined_titanic"
   ]
  },
  {
   "cell_type": "code",
   "execution_count": 55,
   "id": "54e2bbc8-ecb5-4cea-aa4a-5b77b6968de4",
   "metadata": {},
   "outputs": [
    {
     "data": {
      "text/html": [
       "<table>\n",
       "    <thead>\n",
       "        <tr>\n",
       "            <th>made_current_at</th>\n",
       "            <th>snapshot_id</th>\n",
       "            <th>parent_id</th>\n",
       "            <th>is_current_ancestor</th>\n",
       "        </tr>\n",
       "    </thead>\n",
       "    <tbody>\n",
       "        <tr>\n",
       "            <td>2025-02-15 19:24:13.323000</td>\n",
       "            <td>374014226229711562</td>\n",
       "            <td>None</td>\n",
       "            <td>True</td>\n",
       "        </tr>\n",
       "        <tr>\n",
       "            <td>2025-02-15 19:24:16.521000</td>\n",
       "            <td>6262115738980720977</td>\n",
       "            <td>374014226229711562</td>\n",
       "            <td>True</td>\n",
       "        </tr>\n",
       "    </tbody>\n",
       "</table>"
      ],
      "text/plain": [
       "+----------------------------+---------------------+--------------------+---------------------+\n",
       "|            made_current_at |         snapshot_id |          parent_id | is_current_ancestor |\n",
       "+----------------------------+---------------------+--------------------+---------------------+\n",
       "| 2025-02-15 19:24:13.323000 |  374014226229711562 |               None |                True |\n",
       "| 2025-02-15 19:24:16.521000 | 6262115738980720977 | 374014226229711562 |                True |\n",
       "+----------------------------+---------------------+--------------------+---------------------+"
      ]
     },
     "execution_count": 55,
     "metadata": {},
     "output_type": "execute_result"
    }
   ],
   "source": [
    "%%sql\n",
    "SELECT * FROM ml_titanic.refined_titanic.history;"
   ]
  },
  {
   "cell_type": "code",
   "execution_count": 57,
   "id": "03749d2c-0be8-45c6-ab29-eb17b97a29ac",
   "metadata": {},
   "outputs": [
    {
     "data": {
      "text/html": [
       "<table>\n",
       "    <thead>\n",
       "        <tr>\n",
       "            <th>count(1)</th>\n",
       "        </tr>\n",
       "    </thead>\n",
       "    <tbody>\n",
       "        <tr>\n",
       "            <td>357</td>\n",
       "        </tr>\n",
       "    </tbody>\n",
       "</table>"
      ],
      "text/plain": [
       "+----------+\n",
       "| count(1) |\n",
       "+----------+\n",
       "|      357 |\n",
       "+----------+"
      ]
     },
     "execution_count": 57,
     "metadata": {},
     "output_type": "execute_result"
    }
   ],
   "source": [
    "%%sql\n",
    "SELECT count(1) \n",
    "FROM ml_titanic.refined_titanic FOR SYSTEM_VERSION AS OF 374014226229711562;\n"
   ]
  },
  {
   "cell_type": "code",
   "execution_count": 58,
   "id": "20542995-a969-4b4e-86fd-5079a27187ce",
   "metadata": {},
   "outputs": [
    {
     "data": {
      "text/html": [
       "<table>\n",
       "    <thead>\n",
       "        <tr>\n",
       "            <th>count(1)</th>\n",
       "        </tr>\n",
       "    </thead>\n",
       "    <tbody>\n",
       "        <tr>\n",
       "            <td>714</td>\n",
       "        </tr>\n",
       "    </tbody>\n",
       "</table>"
      ],
      "text/plain": [
       "+----------+\n",
       "| count(1) |\n",
       "+----------+\n",
       "|      714 |\n",
       "+----------+"
      ]
     },
     "execution_count": 58,
     "metadata": {},
     "output_type": "execute_result"
    }
   ],
   "source": [
    "%%sql\n",
    "SELECT count(1) \n",
    "FROM ml_titanic.refined_titanic FOR SYSTEM_VERSION AS OF 6262115738980720977;"
   ]
  },
  {
   "cell_type": "code",
   "execution_count": null,
   "id": "3447ddcf-9552-42a4-a84b-969f567af0d7",
   "metadata": {},
   "outputs": [],
   "source": []
  }
 ],
 "metadata": {
  "kernelspec": {
   "display_name": "Python 3 (ipykernel)",
   "language": "python",
   "name": "python3"
  },
  "language_info": {
   "codemirror_mode": {
    "name": "ipython",
    "version": 3
   },
   "file_extension": ".py",
   "mimetype": "text/x-python",
   "name": "python",
   "nbconvert_exporter": "python",
   "pygments_lexer": "ipython3",
   "version": "3.9.18"
  }
 },
 "nbformat": 4,
 "nbformat_minor": 5
}
