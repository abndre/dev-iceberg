{
 "cells": [
  {
   "cell_type": "code",
   "execution_count": 1,
   "id": "9a66fde1-e600-43b6-9b3c-33d6111ad207",
   "metadata": {},
   "outputs": [
    {
     "name": "stderr",
     "output_type": "stream",
     "text": [
      "25/02/18 13:53:10 WARN SparkSession: Using an existing Spark session; only runtime SQL configurations will take effect.\n"
     ]
    },
    {
     "data": {
      "text/html": [
       "<table>\n",
       "    <thead>\n",
       "        <tr>\n",
       "        </tr>\n",
       "    </thead>\n",
       "    <tbody>\n",
       "    </tbody>\n",
       "</table>"
      ],
      "text/plain": [
       "++\n",
       "||\n",
       "++\n",
       "++"
      ]
     },
     "execution_count": 1,
     "metadata": {},
     "output_type": "execute_result"
    }
   ],
   "source": [
    "%%sql\n",
    "\n",
    "CREATE DATABASE IF NOT EXISTS cadastro;"
   ]
  },
  {
   "cell_type": "code",
   "execution_count": 2,
   "id": "5886f9ec-fcbc-4f96-8d2a-d1d218669f6e",
   "metadata": {},
   "outputs": [
    {
     "data": {
      "text/html": [
       "<table>\n",
       "    <thead>\n",
       "        <tr>\n",
       "        </tr>\n",
       "    </thead>\n",
       "    <tbody>\n",
       "    </tbody>\n",
       "</table>"
      ],
      "text/plain": [
       "++\n",
       "||\n",
       "++\n",
       "++"
      ]
     },
     "execution_count": 2,
     "metadata": {},
     "output_type": "execute_result"
    }
   ],
   "source": [
    "%%sql\n",
    "CREATE TABLE cadastro.usuarios (\n",
    "    id INT,\n",
    "    nome STRING,\n",
    "    endereco STRING,\n",
    "    email STRING\n",
    ") USING ICEBERG;\n"
   ]
  },
  {
   "cell_type": "code",
   "execution_count": 5,
   "id": "7a929b98-3720-45bb-82ed-239c4523f531",
   "metadata": {},
   "outputs": [
    {
     "name": "stderr",
     "output_type": "stream",
     "text": [
      "                                                                                \r"
     ]
    },
    {
     "data": {
      "text/html": [
       "<table>\n",
       "    <thead>\n",
       "        <tr>\n",
       "        </tr>\n",
       "    </thead>\n",
       "    <tbody>\n",
       "    </tbody>\n",
       "</table>"
      ],
      "text/plain": [
       "++\n",
       "||\n",
       "++\n",
       "++"
      ]
     },
     "execution_count": 5,
     "metadata": {},
     "output_type": "execute_result"
    }
   ],
   "source": [
    "%%sql\n",
    "INSERT INTO cadastro.usuarios VALUES\n",
    "(1, 'Alice', 'Rua A, 123', 'alice@email.com'),\n",
    "(2, 'Bruno', 'Rua B, 456', 'bruno@email.com'),\n",
    "(3, 'Carlos', 'Rua C, 789', 'carlos@email.com'),\n",
    "(4, 'Daniela', 'Rua D, 101', 'daniela@email.com'),\n",
    "(5, 'Eduardo', 'Rua E, 202', 'eduardo@email.com'),\n",
    "(6, 'Fernanda', 'Rua F, 303', 'fernanda@email.com'),\n",
    "(7, 'Gabriel', 'Rua G, 404', 'gabriel@email.com'),\n",
    "(8, 'Helena', 'Rua H, 505', 'helena@email.com'),\n",
    "(9, 'Igor', 'Rua I, 606', 'igor@email.com'),\n",
    "(10, 'Juliana', 'Rua J, 707', 'juliana@email.com');\n"
   ]
  },
  {
   "cell_type": "code",
   "execution_count": 6,
   "id": "ae6c4e2f-8de5-4691-a130-ff8147f95a08",
   "metadata": {},
   "outputs": [
    {
     "data": {
      "text/html": [
       "<table>\n",
       "    <thead>\n",
       "        <tr>\n",
       "            <th>made_current_at</th>\n",
       "            <th>snapshot_id</th>\n",
       "            <th>parent_id</th>\n",
       "            <th>is_current_ancestor</th>\n",
       "        </tr>\n",
       "    </thead>\n",
       "    <tbody>\n",
       "        <tr>\n",
       "            <td>2025-02-18 13:53:37.781000</td>\n",
       "            <td>1819324054691804068</td>\n",
       "            <td>None</td>\n",
       "            <td>True</td>\n",
       "        </tr>\n",
       "    </tbody>\n",
       "</table>"
      ],
      "text/plain": [
       "+----------------------------+---------------------+-----------+---------------------+\n",
       "|            made_current_at |         snapshot_id | parent_id | is_current_ancestor |\n",
       "+----------------------------+---------------------+-----------+---------------------+\n",
       "| 2025-02-18 13:53:37.781000 | 1819324054691804068 |      None |                True |\n",
       "+----------------------------+---------------------+-----------+---------------------+"
      ]
     },
     "execution_count": 6,
     "metadata": {},
     "output_type": "execute_result"
    }
   ],
   "source": [
    "%%sql\n",
    "select * from cadastro.usuarios.history"
   ]
  },
  {
   "cell_type": "code",
   "execution_count": 7,
   "id": "20f28c79-91bf-4ae5-92b6-d25014d11846",
   "metadata": {},
   "outputs": [
    {
     "name": "stderr",
     "output_type": "stream",
     "text": [
      "                                                                                \r"
     ]
    },
    {
     "data": {
      "text/html": [
       "<table>\n",
       "    <thead>\n",
       "        <tr>\n",
       "            <th>id</th>\n",
       "            <th>nome</th>\n",
       "            <th>endereco</th>\n",
       "            <th>email</th>\n",
       "        </tr>\n",
       "    </thead>\n",
       "    <tbody>\n",
       "        <tr>\n",
       "            <td>1</td>\n",
       "            <td>Alice</td>\n",
       "            <td>Rua A, 123</td>\n",
       "            <td>alice@email.com</td>\n",
       "        </tr>\n",
       "        <tr>\n",
       "            <td>2</td>\n",
       "            <td>Bruno</td>\n",
       "            <td>Rua B, 456</td>\n",
       "            <td>bruno@email.com</td>\n",
       "        </tr>\n",
       "        <tr>\n",
       "            <td>3</td>\n",
       "            <td>Carlos</td>\n",
       "            <td>Rua C, 789</td>\n",
       "            <td>carlos@email.com</td>\n",
       "        </tr>\n",
       "        <tr>\n",
       "            <td>4</td>\n",
       "            <td>Daniela</td>\n",
       "            <td>Rua D, 101</td>\n",
       "            <td>daniela@email.com</td>\n",
       "        </tr>\n",
       "        <tr>\n",
       "            <td>5</td>\n",
       "            <td>Eduardo</td>\n",
       "            <td>Rua E, 202</td>\n",
       "            <td>eduardo@email.com</td>\n",
       "        </tr>\n",
       "        <tr>\n",
       "            <td>6</td>\n",
       "            <td>Fernanda</td>\n",
       "            <td>Rua F, 303</td>\n",
       "            <td>fernanda@email.com</td>\n",
       "        </tr>\n",
       "        <tr>\n",
       "            <td>7</td>\n",
       "            <td>Gabriel</td>\n",
       "            <td>Rua G, 404</td>\n",
       "            <td>gabriel@email.com</td>\n",
       "        </tr>\n",
       "        <tr>\n",
       "            <td>8</td>\n",
       "            <td>Helena</td>\n",
       "            <td>Rua H, 505</td>\n",
       "            <td>helena@email.com</td>\n",
       "        </tr>\n",
       "        <tr>\n",
       "            <td>9</td>\n",
       "            <td>Igor</td>\n",
       "            <td>Rua I, 606</td>\n",
       "            <td>igor@email.com</td>\n",
       "        </tr>\n",
       "        <tr>\n",
       "            <td>10</td>\n",
       "            <td>Juliana</td>\n",
       "            <td>Rua J, 707</td>\n",
       "            <td>juliana@email.com</td>\n",
       "        </tr>\n",
       "    </tbody>\n",
       "</table>"
      ],
      "text/plain": [
       "+----+----------+------------+--------------------+\n",
       "| id |     nome |   endereco |              email |\n",
       "+----+----------+------------+--------------------+\n",
       "|  1 |    Alice | Rua A, 123 |    alice@email.com |\n",
       "|  2 |    Bruno | Rua B, 456 |    bruno@email.com |\n",
       "|  3 |   Carlos | Rua C, 789 |   carlos@email.com |\n",
       "|  4 |  Daniela | Rua D, 101 |  daniela@email.com |\n",
       "|  5 |  Eduardo | Rua E, 202 |  eduardo@email.com |\n",
       "|  6 | Fernanda | Rua F, 303 | fernanda@email.com |\n",
       "|  7 |  Gabriel | Rua G, 404 |  gabriel@email.com |\n",
       "|  8 |   Helena | Rua H, 505 |   helena@email.com |\n",
       "|  9 |     Igor | Rua I, 606 |     igor@email.com |\n",
       "| 10 |  Juliana | Rua J, 707 |  juliana@email.com |\n",
       "+----+----------+------------+--------------------+"
      ]
     },
     "execution_count": 7,
     "metadata": {},
     "output_type": "execute_result"
    }
   ],
   "source": [
    "%%sql\n",
    "select * from cadastro.usuarios"
   ]
  },
  {
   "cell_type": "code",
   "execution_count": 8,
   "id": "bb8c9165-aaf4-4ad7-9f84-ee72d0fce262",
   "metadata": {},
   "outputs": [
    {
     "data": {
      "text/html": [
       "<table>\n",
       "    <thead>\n",
       "        <tr>\n",
       "        </tr>\n",
       "    </thead>\n",
       "    <tbody>\n",
       "    </tbody>\n",
       "</table>"
      ],
      "text/plain": [
       "++\n",
       "||\n",
       "++\n",
       "++"
      ]
     },
     "execution_count": 8,
     "metadata": {},
     "output_type": "execute_result"
    }
   ],
   "source": [
    "%%sql\n",
    "DELETE FROM cadastro.usuarios WHERE nome IN ('Carlos', 'Fernanda', 'Igor');\n"
   ]
  },
  {
   "cell_type": "code",
   "execution_count": 9,
   "id": "7d47043c-6e94-42aa-849b-ead8611e2838",
   "metadata": {},
   "outputs": [
    {
     "data": {
      "text/html": [
       "<table>\n",
       "    <thead>\n",
       "        <tr>\n",
       "            <th>made_current_at</th>\n",
       "            <th>snapshot_id</th>\n",
       "            <th>parent_id</th>\n",
       "            <th>is_current_ancestor</th>\n",
       "        </tr>\n",
       "    </thead>\n",
       "    <tbody>\n",
       "        <tr>\n",
       "            <td>2025-02-18 13:53:37.781000</td>\n",
       "            <td>1819324054691804068</td>\n",
       "            <td>None</td>\n",
       "            <td>True</td>\n",
       "        </tr>\n",
       "        <tr>\n",
       "            <td>2025-02-18 13:54:14.995000</td>\n",
       "            <td>5423887048018366121</td>\n",
       "            <td>1819324054691804068</td>\n",
       "            <td>True</td>\n",
       "        </tr>\n",
       "    </tbody>\n",
       "</table>"
      ],
      "text/plain": [
       "+----------------------------+---------------------+---------------------+---------------------+\n",
       "|            made_current_at |         snapshot_id |           parent_id | is_current_ancestor |\n",
       "+----------------------------+---------------------+---------------------+---------------------+\n",
       "| 2025-02-18 13:53:37.781000 | 1819324054691804068 |                None |                True |\n",
       "| 2025-02-18 13:54:14.995000 | 5423887048018366121 | 1819324054691804068 |                True |\n",
       "+----------------------------+---------------------+---------------------+---------------------+"
      ]
     },
     "execution_count": 9,
     "metadata": {},
     "output_type": "execute_result"
    }
   ],
   "source": [
    "%%sql\n",
    "select * from cadastro.usuarios.history"
   ]
  },
  {
   "cell_type": "code",
   "execution_count": 10,
   "id": "585f7233-8187-4cc5-9a7c-e2ef5d05a13c",
   "metadata": {},
   "outputs": [
    {
     "data": {
      "text/html": [
       "<table>\n",
       "    <thead>\n",
       "        <tr>\n",
       "            <th>committed_at</th>\n",
       "            <th>snapshot_id</th>\n",
       "            <th>parent_id</th>\n",
       "            <th>operation</th>\n",
       "            <th>manifest_list</th>\n",
       "            <th>summary</th>\n",
       "        </tr>\n",
       "    </thead>\n",
       "    <tbody>\n",
       "        <tr>\n",
       "            <td>2025-02-18 13:53:37.781000</td>\n",
       "            <td>1819324054691804068</td>\n",
       "            <td>None</td>\n",
       "            <td>append</td>\n",
       "            <td>s3://warehouse/cadastro/usuarios/metadata/snap-1819324054691804068-1-0dcb2df3-f9b6-416e-9c07-03db75044c1f.avro</td>\n",
       "            <td>{&#x27;spark.app.id&#x27;: &#x27;local-1739885006778&#x27;, &#x27;changed-partition-count&#x27;: &#x27;1&#x27;, &#x27;added-data-files&#x27;: &#x27;5&#x27;, &#x27;total-equality-deletes&#x27;: &#x27;0&#x27;, &#x27;added-records&#x27;: &#x27;10&#x27;, &#x27;total-position-deletes&#x27;: &#x27;0&#x27;, &#x27;added-files-size&#x27;: &#x27;6017&#x27;, &#x27;total-delete-files&#x27;: &#x27;0&#x27;, &#x27;total-files-size&#x27;: &#x27;6017&#x27;, &#x27;total-records&#x27;: &#x27;10&#x27;, &#x27;total-data-files&#x27;: &#x27;5&#x27;}</td>\n",
       "        </tr>\n",
       "        <tr>\n",
       "            <td>2025-02-18 13:54:14.995000</td>\n",
       "            <td>5423887048018366121</td>\n",
       "            <td>1819324054691804068</td>\n",
       "            <td>overwrite</td>\n",
       "            <td>s3://warehouse/cadastro/usuarios/metadata/snap-5423887048018366121-1-d146e31f-b683-43b3-8e61-f2590029a7a4.avro</td>\n",
       "            <td>{&#x27;added-data-files&#x27;: &#x27;1&#x27;, &#x27;total-equality-deletes&#x27;: &#x27;0&#x27;, &#x27;added-records&#x27;: &#x27;3&#x27;, &#x27;deleted-data-files&#x27;: &#x27;3&#x27;, &#x27;deleted-records&#x27;: &#x27;6&#x27;, &#x27;total-records&#x27;: &#x27;7&#x27;, &#x27;spark.app.id&#x27;: &#x27;local-1739885006778&#x27;, &#x27;removed-files-size&#x27;: &#x27;3623&#x27;, &#x27;changed-partition-count&#x27;: &#x27;1&#x27;, &#x27;total-position-deletes&#x27;: &#x27;0&#x27;, &#x27;added-files-size&#x27;: &#x27;1285&#x27;, &#x27;total-delete-files&#x27;: &#x27;0&#x27;, &#x27;total-files-size&#x27;: &#x27;3679&#x27;, &#x27;total-data-files&#x27;: &#x27;3&#x27;}</td>\n",
       "        </tr>\n",
       "    </tbody>\n",
       "</table>"
      ],
      "text/plain": [
       "+----------------------------+---------------------+---------------------+-----------+----------------------------------------------------------------------------------------------------------------+---------------------------------------------------------------------------------------------------------------------------------------------------------------------------------------------------------------------------------------------------------------------------------------------------------------------------------------------------------------------------------------------------------+\n",
       "|               committed_at |         snapshot_id |           parent_id | operation |                                                                                                  manifest_list |                                                                                                                                                                                                                                                                                                                                                                                                 summary |\n",
       "+----------------------------+---------------------+---------------------+-----------+----------------------------------------------------------------------------------------------------------------+---------------------------------------------------------------------------------------------------------------------------------------------------------------------------------------------------------------------------------------------------------------------------------------------------------------------------------------------------------------------------------------------------------+\n",
       "| 2025-02-18 13:53:37.781000 | 1819324054691804068 |                None |    append | s3://warehouse/cadastro/usuarios/metadata/snap-1819324054691804068-1-0dcb2df3-f9b6-416e-9c07-03db75044c1f.avro |                                                                                {'spark.app.id': 'local-1739885006778', 'changed-partition-count': '1', 'added-data-files': '5', 'total-equality-deletes': '0', 'added-records': '10', 'total-position-deletes': '0', 'added-files-size': '6017', 'total-delete-files': '0', 'total-files-size': '6017', 'total-records': '10', 'total-data-files': '5'} |\n",
       "| 2025-02-18 13:54:14.995000 | 5423887048018366121 | 1819324054691804068 | overwrite | s3://warehouse/cadastro/usuarios/metadata/snap-5423887048018366121-1-d146e31f-b683-43b3-8e61-f2590029a7a4.avro | {'added-data-files': '1', 'total-equality-deletes': '0', 'added-records': '3', 'deleted-data-files': '3', 'deleted-records': '6', 'total-records': '7', 'spark.app.id': 'local-1739885006778', 'removed-files-size': '3623', 'changed-partition-count': '1', 'total-position-deletes': '0', 'added-files-size': '1285', 'total-delete-files': '0', 'total-files-size': '3679', 'total-data-files': '3'} |\n",
       "+----------------------------+---------------------+---------------------+-----------+----------------------------------------------------------------------------------------------------------------+---------------------------------------------------------------------------------------------------------------------------------------------------------------------------------------------------------------------------------------------------------------------------------------------------------------------------------------------------------------------------------------------------------+"
      ]
     },
     "execution_count": 10,
     "metadata": {},
     "output_type": "execute_result"
    }
   ],
   "source": [
    "%%sql\n",
    "SELECT * FROM cadastro.usuarios.snapshots;"
   ]
  },
  {
   "cell_type": "code",
   "execution_count": 11,
   "id": "7c84aee0-1c46-4818-a88f-cf22df81ba8c",
   "metadata": {},
   "outputs": [
    {
     "data": {
      "text/html": [
       "<table>\n",
       "    <thead>\n",
       "        <tr>\n",
       "            <th>id</th>\n",
       "            <th>nome</th>\n",
       "            <th>endereco</th>\n",
       "            <th>email</th>\n",
       "        </tr>\n",
       "    </thead>\n",
       "    <tbody>\n",
       "        <tr>\n",
       "            <td>1</td>\n",
       "            <td>Alice</td>\n",
       "            <td>Rua A, 123</td>\n",
       "            <td>alice@email.com</td>\n",
       "        </tr>\n",
       "        <tr>\n",
       "            <td>2</td>\n",
       "            <td>Bruno</td>\n",
       "            <td>Rua B, 456</td>\n",
       "            <td>bruno@email.com</td>\n",
       "        </tr>\n",
       "        <tr>\n",
       "            <td>3</td>\n",
       "            <td>Carlos</td>\n",
       "            <td>Rua C, 789</td>\n",
       "            <td>carlos@email.com</td>\n",
       "        </tr>\n",
       "        <tr>\n",
       "            <td>4</td>\n",
       "            <td>Daniela</td>\n",
       "            <td>Rua D, 101</td>\n",
       "            <td>daniela@email.com</td>\n",
       "        </tr>\n",
       "        <tr>\n",
       "            <td>5</td>\n",
       "            <td>Eduardo</td>\n",
       "            <td>Rua E, 202</td>\n",
       "            <td>eduardo@email.com</td>\n",
       "        </tr>\n",
       "        <tr>\n",
       "            <td>6</td>\n",
       "            <td>Fernanda</td>\n",
       "            <td>Rua F, 303</td>\n",
       "            <td>fernanda@email.com</td>\n",
       "        </tr>\n",
       "        <tr>\n",
       "            <td>7</td>\n",
       "            <td>Gabriel</td>\n",
       "            <td>Rua G, 404</td>\n",
       "            <td>gabriel@email.com</td>\n",
       "        </tr>\n",
       "        <tr>\n",
       "            <td>8</td>\n",
       "            <td>Helena</td>\n",
       "            <td>Rua H, 505</td>\n",
       "            <td>helena@email.com</td>\n",
       "        </tr>\n",
       "        <tr>\n",
       "            <td>9</td>\n",
       "            <td>Igor</td>\n",
       "            <td>Rua I, 606</td>\n",
       "            <td>igor@email.com</td>\n",
       "        </tr>\n",
       "        <tr>\n",
       "            <td>10</td>\n",
       "            <td>Juliana</td>\n",
       "            <td>Rua J, 707</td>\n",
       "            <td>juliana@email.com</td>\n",
       "        </tr>\n",
       "    </tbody>\n",
       "</table>"
      ],
      "text/plain": [
       "+----+----------+------------+--------------------+\n",
       "| id |     nome |   endereco |              email |\n",
       "+----+----------+------------+--------------------+\n",
       "|  1 |    Alice | Rua A, 123 |    alice@email.com |\n",
       "|  2 |    Bruno | Rua B, 456 |    bruno@email.com |\n",
       "|  3 |   Carlos | Rua C, 789 |   carlos@email.com |\n",
       "|  4 |  Daniela | Rua D, 101 |  daniela@email.com |\n",
       "|  5 |  Eduardo | Rua E, 202 |  eduardo@email.com |\n",
       "|  6 | Fernanda | Rua F, 303 | fernanda@email.com |\n",
       "|  7 |  Gabriel | Rua G, 404 |  gabriel@email.com |\n",
       "|  8 |   Helena | Rua H, 505 |   helena@email.com |\n",
       "|  9 |     Igor | Rua I, 606 |     igor@email.com |\n",
       "| 10 |  Juliana | Rua J, 707 |  juliana@email.com |\n",
       "+----+----------+------------+--------------------+"
      ]
     },
     "execution_count": 11,
     "metadata": {},
     "output_type": "execute_result"
    }
   ],
   "source": [
    "%%sql\n",
    "SELECT * FROM cadastro.usuarios FOR VERSION AS OF 1819324054691804068;\n"
   ]
  },
  {
   "cell_type": "code",
   "execution_count": 19,
   "id": "67301beb-478c-4231-b9d7-6bb6e73c3ef2",
   "metadata": {},
   "outputs": [
    {
     "data": {
      "text/html": [
       "<table>\n",
       "    <thead>\n",
       "        <tr>\n",
       "            <th>id</th>\n",
       "            <th>nome</th>\n",
       "            <th>endereco</th>\n",
       "            <th>email</th>\n",
       "        </tr>\n",
       "    </thead>\n",
       "    <tbody>\n",
       "        <tr>\n",
       "            <td>3</td>\n",
       "            <td>Carlos</td>\n",
       "            <td>Rua C, 789</td>\n",
       "            <td>carlos@email.com</td>\n",
       "        </tr>\n",
       "        <tr>\n",
       "            <td>6</td>\n",
       "            <td>Fernanda</td>\n",
       "            <td>Rua F, 303</td>\n",
       "            <td>fernanda@email.com</td>\n",
       "        </tr>\n",
       "        <tr>\n",
       "            <td>9</td>\n",
       "            <td>Igor</td>\n",
       "            <td>Rua I, 606</td>\n",
       "            <td>igor@email.com</td>\n",
       "        </tr>\n",
       "    </tbody>\n",
       "</table>"
      ],
      "text/plain": [
       "+----+----------+------------+--------------------+\n",
       "| id |     nome |   endereco |              email |\n",
       "+----+----------+------------+--------------------+\n",
       "|  3 |   Carlos | Rua C, 789 |   carlos@email.com |\n",
       "|  6 | Fernanda | Rua F, 303 | fernanda@email.com |\n",
       "|  9 |     Igor | Rua I, 606 |     igor@email.com |\n",
       "+----+----------+------------+--------------------+"
      ]
     },
     "execution_count": 19,
     "metadata": {},
     "output_type": "execute_result"
    }
   ],
   "source": [
    "%%sql\n",
    "SELECT old.*\n",
    "FROM cadastro.usuarios FOR VERSION AS OF 1819324054691804068 AS old\n",
    "LEFT JOIN cadastro.usuarios AS new\n",
    "ON old.id = new.id\n",
    "WHERE new.id IS NULL;"
   ]
  }
 ],
 "metadata": {
  "kernelspec": {
   "display_name": "Python 3 (ipykernel)",
   "language": "python",
   "name": "python3"
  },
  "language_info": {
   "codemirror_mode": {
    "name": "ipython",
    "version": 3
   },
   "file_extension": ".py",
   "mimetype": "text/x-python",
   "name": "python",
   "nbconvert_exporter": "python",
   "pygments_lexer": "ipython3",
   "version": "3.9.18"
  }
 },
 "nbformat": 4,
 "nbformat_minor": 5
}
