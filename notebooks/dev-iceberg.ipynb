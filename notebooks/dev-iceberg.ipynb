{
 "cells": [
  {
   "cell_type": "code",
   "execution_count": 1,
   "id": "b6442aa6-5efe-44a6-983b-6ab9cfb440ca",
   "metadata": {},
   "outputs": [
    {
     "data": {
      "text/plain": [
       "'0.6.0'"
      ]
     },
     "execution_count": 1,
     "metadata": {},
     "output_type": "execute_result"
    }
   ],
   "source": [
    "from pyiceberg import __version__\n",
    "\n",
    "__version__"
   ]
  },
  {
   "cell_type": "code",
   "execution_count": 2,
   "id": "e1cd76c7-3a0c-4012-8f5d-292daa189677",
   "metadata": {},
   "outputs": [
    {
     "name": "stderr",
     "output_type": "stream",
     "text": [
      "24/10/23 11:10:08 WARN SparkSession: Using an existing Spark session; only runtime SQL configurations will take effect.\n"
     ]
    },
    {
     "data": {
      "text/html": [
       "<table>\n",
       "    <thead>\n",
       "        <tr>\n",
       "        </tr>\n",
       "    </thead>\n",
       "    <tbody>\n",
       "    </tbody>\n",
       "</table>"
      ],
      "text/plain": [
       "++\n",
       "||\n",
       "++\n",
       "++"
      ]
     },
     "execution_count": 2,
     "metadata": {},
     "output_type": "execute_result"
    }
   ],
   "source": [
    "%%sql\n",
    "\n",
    "CREATE DATABASE IF NOT EXISTS pokemon;"
   ]
  },
  {
   "cell_type": "code",
   "execution_count": 12,
   "id": "ad3c5fc4-ede8-4ebe-8a30-84d2617aadd6",
   "metadata": {},
   "outputs": [],
   "source": [
    "import requests\n",
    "import pandas as pd\n",
    "\n",
    "# Função para obter dados dos Pokémon\n",
    "def get_pokemon_data(pokemon_id):\n",
    "    url = f'https://pokeapi.co/api/v2/pokemon/{pokemon_id}/'\n",
    "    response = requests.get(url)\n",
    "    return response.json()\n",
    "\n",
    "# Lista para armazenar os dados dos Pokémon\n",
    "pokemon_list = []\n",
    "\n",
    "# Loop pelos 151 Pokémon iniciais\n",
    "for i in range(1, 152):\n",
    "    data = get_pokemon_data(i)\n",
    "    name = data['name']\n",
    "    ataque = data['stats'][1]['base_stat']  # Ataque\n",
    "    defesa = data['stats'][2]['base_stat']  # Defesa\n",
    "    energia = data['stats'][0]['base_stat']  # HP (Energia)\n",
    "    \n",
    "    pokemon_list.append({\n",
    "        'numero': i,\n",
    "        'name': name,\n",
    "        'ataque': ataque,\n",
    "        'defesa': defesa,\n",
    "        'energia': energia\n",
    "    })\n",
    "\n",
    "# Criar um DataFrame\n",
    "df = pd.DataFrame(pokemon_list)"
   ]
  },
  {
   "cell_type": "code",
   "execution_count": 13,
   "id": "0a87aae1-8810-4e1d-abe1-0d41f0a1f8fb",
   "metadata": {},
   "outputs": [
    {
     "data": {
      "text/plain": [
       "(151, 5)"
      ]
     },
     "execution_count": 13,
     "metadata": {},
     "output_type": "execute_result"
    }
   ],
   "source": [
    "df.shape"
   ]
  },
  {
   "cell_type": "code",
   "execution_count": 14,
   "id": "bfdfbe06-bacc-4a12-80eb-9f1ce3c41310",
   "metadata": {},
   "outputs": [
    {
     "data": {
      "text/html": [
       "<div>\n",
       "<style scoped>\n",
       "    .dataframe tbody tr th:only-of-type {\n",
       "        vertical-align: middle;\n",
       "    }\n",
       "\n",
       "    .dataframe tbody tr th {\n",
       "        vertical-align: top;\n",
       "    }\n",
       "\n",
       "    .dataframe thead th {\n",
       "        text-align: right;\n",
       "    }\n",
       "</style>\n",
       "<table border=\"1\" class=\"dataframe\">\n",
       "  <thead>\n",
       "    <tr style=\"text-align: right;\">\n",
       "      <th></th>\n",
       "      <th>numero</th>\n",
       "      <th>name</th>\n",
       "      <th>ataque</th>\n",
       "      <th>defesa</th>\n",
       "      <th>energia</th>\n",
       "    </tr>\n",
       "  </thead>\n",
       "  <tbody>\n",
       "    <tr>\n",
       "      <th>0</th>\n",
       "      <td>1</td>\n",
       "      <td>bulbasaur</td>\n",
       "      <td>49</td>\n",
       "      <td>49</td>\n",
       "      <td>45</td>\n",
       "    </tr>\n",
       "    <tr>\n",
       "      <th>1</th>\n",
       "      <td>2</td>\n",
       "      <td>ivysaur</td>\n",
       "      <td>62</td>\n",
       "      <td>63</td>\n",
       "      <td>60</td>\n",
       "    </tr>\n",
       "    <tr>\n",
       "      <th>2</th>\n",
       "      <td>3</td>\n",
       "      <td>venusaur</td>\n",
       "      <td>82</td>\n",
       "      <td>83</td>\n",
       "      <td>80</td>\n",
       "    </tr>\n",
       "    <tr>\n",
       "      <th>3</th>\n",
       "      <td>4</td>\n",
       "      <td>charmander</td>\n",
       "      <td>52</td>\n",
       "      <td>43</td>\n",
       "      <td>39</td>\n",
       "    </tr>\n",
       "    <tr>\n",
       "      <th>4</th>\n",
       "      <td>5</td>\n",
       "      <td>charmeleon</td>\n",
       "      <td>64</td>\n",
       "      <td>58</td>\n",
       "      <td>58</td>\n",
       "    </tr>\n",
       "  </tbody>\n",
       "</table>\n",
       "</div>"
      ],
      "text/plain": [
       "   numero        name  ataque  defesa  energia\n",
       "0       1   bulbasaur      49      49       45\n",
       "1       2     ivysaur      62      63       60\n",
       "2       3    venusaur      82      83       80\n",
       "3       4  charmander      52      43       39\n",
       "4       5  charmeleon      64      58       58"
      ]
     },
     "execution_count": 14,
     "metadata": {},
     "output_type": "execute_result"
    }
   ],
   "source": [
    "df.head()"
   ]
  },
  {
   "cell_type": "code",
   "execution_count": 7,
   "id": "f6fd5e20-af07-4847-9101-5a57ffb0d8ad",
   "metadata": {},
   "outputs": [
    {
     "data": {
      "text/html": [
       "<table>\n",
       "    <thead>\n",
       "        <tr>\n",
       "        </tr>\n",
       "    </thead>\n",
       "    <tbody>\n",
       "    </tbody>\n",
       "</table>"
      ],
      "text/plain": [
       "++\n",
       "||\n",
       "++\n",
       "++"
      ]
     },
     "execution_count": 7,
     "metadata": {},
     "output_type": "execute_result"
    }
   ],
   "source": [
    "%%sql\n",
    "DROP TABLE IF EXISTS pokemon.primeira_geracao;"
   ]
  },
  {
   "cell_type": "code",
   "execution_count": 8,
   "id": "72b93c8b-a434-4720-b150-1a98859aaf4d",
   "metadata": {},
   "outputs": [
    {
     "data": {
      "text/html": [
       "<table>\n",
       "    <thead>\n",
       "        <tr>\n",
       "        </tr>\n",
       "    </thead>\n",
       "    <tbody>\n",
       "    </tbody>\n",
       "</table>"
      ],
      "text/plain": [
       "++\n",
       "||\n",
       "++\n",
       "++"
      ]
     },
     "execution_count": 8,
     "metadata": {},
     "output_type": "execute_result"
    }
   ],
   "source": [
    "%%sql\n",
    "CREATE TABLE IF NOT EXISTS pokemon.primeira_geracao (\n",
    "    name              string,\n",
    "    ataque  int,\n",
    "    defesa int,\n",
    "    energia       int\n",
    ")\n",
    "USING iceberg\n",
    "PARTITIONED BY (name)"
   ]
  },
  {
   "cell_type": "code",
   "execution_count": 9,
   "id": "f34b5405-0dae-44cd-858f-29da1bea27c4",
   "metadata": {},
   "outputs": [
    {
     "name": "stderr",
     "output_type": "stream",
     "text": [
      "24/10/23 11:15:43 WARN SparkSession: Using an existing Spark session; only runtime SQL configurations will take effect.\n"
     ]
    }
   ],
   "source": [
    "from pyspark.sql import SparkSession\n",
    "spark = SparkSession.builder.appName(\"pokemon\").getOrCreate()"
   ]
  },
  {
   "cell_type": "code",
   "execution_count": 10,
   "id": "bfda13f9-84f0-434f-be4d-4b8bf5897e1e",
   "metadata": {},
   "outputs": [
    {
     "name": "stderr",
     "output_type": "stream",
     "text": [
      "                                                                                \r"
     ]
    },
    {
     "name": "stdout",
     "output_type": "stream",
     "text": [
      "+----------+------+------+-------+\n",
      "|      name|ataque|defesa|energia|\n",
      "+----------+------+------+-------+\n",
      "| bulbasaur|    49|    49|     45|\n",
      "|   ivysaur|    62|    63|     60|\n",
      "|  venusaur|    82|    83|     80|\n",
      "|charmander|    52|    43|     39|\n",
      "|charmeleon|    64|    58|     58|\n",
      "| charizard|    84|    78|     78|\n",
      "|  squirtle|    48|    65|     44|\n",
      "| wartortle|    63|    80|     59|\n",
      "| blastoise|    83|   100|     79|\n",
      "|  caterpie|    30|    35|     45|\n",
      "|   metapod|    20|    55|     50|\n",
      "|butterfree|    45|    50|     60|\n",
      "|    weedle|    35|    30|     40|\n",
      "|    kakuna|    25|    50|     45|\n",
      "|  beedrill|    90|    40|     65|\n",
      "|    pidgey|    45|    40|     40|\n",
      "| pidgeotto|    60|    55|     63|\n",
      "|   pidgeot|    80|    75|     83|\n",
      "|   rattata|    56|    35|     30|\n",
      "|  raticate|    81|    60|     55|\n",
      "+----------+------+------+-------+\n",
      "only showing top 20 rows\n",
      "\n"
     ]
    }
   ],
   "source": [
    "# Converte o DataFrame do Pandas para um DataFrame do Spark\n",
    "spark_df = spark.createDataFrame(df)\n",
    "\n",
    "# Exibe o DataFrame do Spark\n",
    "spark_df.show()"
   ]
  },
  {
   "cell_type": "code",
   "execution_count": 11,
   "id": "d1d1ab05-3db9-4423-8bab-8710a781bfc8",
   "metadata": {},
   "outputs": [
    {
     "name": "stderr",
     "output_type": "stream",
     "text": [
      "                                                                                \r"
     ]
    }
   ],
   "source": [
    "spark_df.write.mode(\"append\").saveAsTable(\"pokemon.primeira_geracao\")"
   ]
  },
  {
   "cell_type": "code",
   "execution_count": null,
   "id": "54a26673-a57a-4629-becd-93e41ec1dff9",
   "metadata": {},
   "outputs": [],
   "source": []
  }
 ],
 "metadata": {
  "kernelspec": {
   "display_name": "Python 3 (ipykernel)",
   "language": "python",
   "name": "python3"
  },
  "language_info": {
   "codemirror_mode": {
    "name": "ipython",
    "version": 3
   },
   "file_extension": ".py",
   "mimetype": "text/x-python",
   "name": "python",
   "nbconvert_exporter": "python",
   "pygments_lexer": "ipython3",
   "version": "3.9.18"
  }
 },
 "nbformat": 4,
 "nbformat_minor": 5
}
