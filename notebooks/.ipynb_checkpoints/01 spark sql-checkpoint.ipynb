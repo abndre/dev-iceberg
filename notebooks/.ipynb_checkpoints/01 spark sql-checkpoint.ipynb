{
 "cells": [
  {
   "cell_type": "code",
   "execution_count": 2,
   "id": "1638db64-988c-459f-be06-dacd6c443984",
   "metadata": {},
   "outputs": [
    {
     "data": {
      "text/html": [
       "<table>\n",
       "    <thead>\n",
       "        <tr>\n",
       "            <th>numero</th>\n",
       "            <th>name</th>\n",
       "            <th>ataque</th>\n",
       "            <th>defesa</th>\n",
       "            <th>energia</th>\n",
       "            <th>evolucao</th>\n",
       "            <th>proxima_evolucao</th>\n",
       "        </tr>\n",
       "    </thead>\n",
       "    <tbody>\n",
       "        <tr>\n",
       "            <td>4</td>\n",
       "            <td>charmander</td>\n",
       "            <td>52</td>\n",
       "            <td>43</td>\n",
       "            <td>39</td>\n",
       "            <td>True</td>\n",
       "            <td>charmeleon</td>\n",
       "        </tr>\n",
       "        <tr>\n",
       "            <td>1</td>\n",
       "            <td>bulbasaur</td>\n",
       "            <td>49</td>\n",
       "            <td>49</td>\n",
       "            <td>45</td>\n",
       "            <td>True</td>\n",
       "            <td>ivysaur</td>\n",
       "        </tr>\n",
       "        <tr>\n",
       "            <td>2</td>\n",
       "            <td>ivysaur</td>\n",
       "            <td>62</td>\n",
       "            <td>63</td>\n",
       "            <td>60</td>\n",
       "            <td>True</td>\n",
       "            <td>venusaur</td>\n",
       "        </tr>\n",
       "        <tr>\n",
       "            <td>3</td>\n",
       "            <td>venusaur</td>\n",
       "            <td>82</td>\n",
       "            <td>83</td>\n",
       "            <td>80</td>\n",
       "            <td>False</td>\n",
       "            <td>Nenhuma</td>\n",
       "        </tr>\n",
       "    </tbody>\n",
       "</table>"
      ],
      "text/plain": [
       "+--------+------------+--------+--------+---------+----------+------------------+\n",
       "| numero |       name | ataque | defesa | energia | evolucao | proxima_evolucao |\n",
       "+--------+------------+--------+--------+---------+----------+------------------+\n",
       "|      4 | charmander |     52 |     43 |      39 |     True |       charmeleon |\n",
       "|      1 |  bulbasaur |     49 |     49 |      45 |     True |          ivysaur |\n",
       "|      2 |    ivysaur |     62 |     63 |      60 |     True |         venusaur |\n",
       "|      3 |   venusaur |     82 |     83 |      80 |    False |          Nenhuma |\n",
       "+--------+------------+--------+--------+---------+----------+------------------+"
      ]
     },
     "execution_count": 2,
     "metadata": {},
     "output_type": "execute_result"
    }
   ],
   "source": [
    "%%sql\n",
    "select * from pokemon.primeira_geracao order by energia"
   ]
  },
  {
   "cell_type": "code",
   "execution_count": 3,
   "id": "6fc4e781-f64e-4775-9ab0-c78f083aec0f",
   "metadata": {},
   "outputs": [
    {
     "data": {
      "text/html": [
       "<table>\n",
       "    <thead>\n",
       "        <tr>\n",
       "        </tr>\n",
       "    </thead>\n",
       "    <tbody>\n",
       "    </tbody>\n",
       "</table>"
      ],
      "text/plain": [
       "++\n",
       "||\n",
       "++\n",
       "++"
      ]
     },
     "execution_count": 3,
     "metadata": {},
     "output_type": "execute_result"
    }
   ],
   "source": [
    "%%sql\n",
    "CREATE TABLE pokemon.primeira_geracao_dev\n",
    "USING iceberg\n",
    "AS select * from pokemon.primeira_geracao"
   ]
  },
  {
   "cell_type": "code",
   "execution_count": 4,
   "id": "35bbe257-d0e3-4759-aa20-b97acf2cfef8",
   "metadata": {},
   "outputs": [
    {
     "data": {
      "text/html": [
       "<table>\n",
       "    <thead>\n",
       "        <tr>\n",
       "            <th>numero</th>\n",
       "            <th>name</th>\n",
       "            <th>ataque</th>\n",
       "            <th>defesa</th>\n",
       "            <th>energia</th>\n",
       "            <th>evolucao</th>\n",
       "            <th>proxima_evolucao</th>\n",
       "        </tr>\n",
       "    </thead>\n",
       "    <tbody>\n",
       "        <tr>\n",
       "            <td>4</td>\n",
       "            <td>charmander</td>\n",
       "            <td>52</td>\n",
       "            <td>43</td>\n",
       "            <td>39</td>\n",
       "            <td>True</td>\n",
       "            <td>charmeleon</td>\n",
       "        </tr>\n",
       "        <tr>\n",
       "            <td>1</td>\n",
       "            <td>bulbasaur</td>\n",
       "            <td>49</td>\n",
       "            <td>49</td>\n",
       "            <td>45</td>\n",
       "            <td>True</td>\n",
       "            <td>ivysaur</td>\n",
       "        </tr>\n",
       "        <tr>\n",
       "            <td>2</td>\n",
       "            <td>ivysaur</td>\n",
       "            <td>62</td>\n",
       "            <td>63</td>\n",
       "            <td>60</td>\n",
       "            <td>True</td>\n",
       "            <td>venusaur</td>\n",
       "        </tr>\n",
       "        <tr>\n",
       "            <td>3</td>\n",
       "            <td>venusaur</td>\n",
       "            <td>82</td>\n",
       "            <td>83</td>\n",
       "            <td>80</td>\n",
       "            <td>False</td>\n",
       "            <td>Nenhuma</td>\n",
       "        </tr>\n",
       "    </tbody>\n",
       "</table>"
      ],
      "text/plain": [
       "+--------+------------+--------+--------+---------+----------+------------------+\n",
       "| numero |       name | ataque | defesa | energia | evolucao | proxima_evolucao |\n",
       "+--------+------------+--------+--------+---------+----------+------------------+\n",
       "|      4 | charmander |     52 |     43 |      39 |     True |       charmeleon |\n",
       "|      1 |  bulbasaur |     49 |     49 |      45 |     True |          ivysaur |\n",
       "|      2 |    ivysaur |     62 |     63 |      60 |     True |         venusaur |\n",
       "|      3 |   venusaur |     82 |     83 |      80 |    False |          Nenhuma |\n",
       "+--------+------------+--------+--------+---------+----------+------------------+"
      ]
     },
     "execution_count": 4,
     "metadata": {},
     "output_type": "execute_result"
    }
   ],
   "source": [
    "%%sql\n",
    "select * from pokemon.primeira_geracao_dev order by energia"
   ]
  },
  {
   "cell_type": "code",
   "execution_count": null,
   "id": "7f7021b6-f55c-4cc7-aec4-1b5e837e3e00",
   "metadata": {},
   "outputs": [],
   "source": []
  }
 ],
 "metadata": {
  "kernelspec": {
   "display_name": "Python 3 (ipykernel)",
   "language": "python",
   "name": "python3"
  },
  "language_info": {
   "codemirror_mode": {
    "name": "ipython",
    "version": 3
   },
   "file_extension": ".py",
   "mimetype": "text/x-python",
   "name": "python",
   "nbconvert_exporter": "python",
   "pygments_lexer": "ipython3",
   "version": "3.9.18"
  }
 },
 "nbformat": 4,
 "nbformat_minor": 5
}
